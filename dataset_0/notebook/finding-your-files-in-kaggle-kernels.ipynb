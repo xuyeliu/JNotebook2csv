{
 "cells": [
  {
   "cell_type": "markdown",
   "metadata": {},
   "source": [
    "# Looking For Your Files?\n",
    "\n",
    "Your data files can be found by clicking on the **Input Files** Link above your editing area.\n",
    "\n",
    "![Imgur](https://i.imgur.com/TB8cntG.png)"
   ]
  },
  {
   "cell_type": "markdown",
   "metadata": {},
   "source": [
    "From there, you will find a list of files in the left sidebar.  It may look something like this.  \n",
    "![Imgur](https://i.imgur.com/rqO331u.png)\n",
    "\n",
    "If you have many sets of files, it could be longer.  If you don't have any data files listed, click on the button to add a data file.\n",
    "\n",
    "To get the path you'll need to load a file, just click on the filename in this list.  That causes the file's path to show up in the main window.  It will look something like this.\n",
    "\n",
    "![Imgur](https://i.imgur.com/7yAY8Z1.png)\n",
    "\n",
    "If you have a great memory, congrats. You can remember it and type in that path to load it.\n",
    "\n",
    "But computers are finicky if you get any part of it wrong (like those darn leading dots.) . So it's usually easier to highlight the file path, then use keyboard shortcuts to copy and paste it into your code.  \n",
    "\n",
    "Once you've copied it, click the button to the left of the **Input Files** link to get back to your editing environment.\n",
    "\n",
    "![Imgur](https://i.imgur.com/9RYRekU.png)\n",
    "\n",
    "From there, you can load it with your favorite Python or R libraries.  Here's an example."
   ]
  },
  {
   "cell_type": "code",
   "execution_count": 1,
   "metadata": {
    "_cell_guid": "65173699-0b4c-4df0-98ee-ba70ff09c1d6",
    "_uuid": "37abfd017c224da2b9fdf77d3d4724c3ff62036c",
    "collapsed": true
   },
   "outputs": [],
   "source": [
    "import pandas as pd\n",
    "\n",
    "my_data = pd.read_csv('../input/train.csv')"
   ]
  },
  {
   "cell_type": "markdown",
   "metadata": {},
   "source": [
    "Now you are off to code. If you're unsure what to do with a loaded data file, Kaggle has some [great learning resources](https://www.kaggle.com/dansbecker/learning-materials-on-kaggle)."
   ]
  }
 ],
 "metadata": {
  "kernelspec": {
   "display_name": "Python 3",
   "language": "python",
   "name": "python3"
  },
  "language_info": {
   "codemirror_mode": {
    "name": "ipython",
    "version": 3
   },
   "file_extension": ".py",
   "mimetype": "text/x-python",
   "name": "python",
   "nbconvert_exporter": "python",
   "pygments_lexer": "ipython3",
   "version": "3.6.1"
  }
 },
 "nbformat": 4,
 "nbformat_minor": 1
}
