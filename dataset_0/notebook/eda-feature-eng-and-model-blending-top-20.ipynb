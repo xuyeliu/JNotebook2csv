{
 "cells": [
  {
   "cell_type": "markdown",
   "metadata": {
    "_cell_guid": "79c7e3d0-c299-4dcb-8224-4455121ee9b0",
    "_uuid": "d629ff2d2480ee46fbb7e2d37f6b5fab8052498a",
    "collapsed": true
   },
   "source": [
    "# Kaggle Competition - House Prices: Advanced Regression Techniques"
   ]
  },
  {
   "cell_type": "markdown",
   "metadata": {
    "_cell_guid": "bd6373f6-054e-4573-8bc7-65de96ebc84e",
    "_uuid": "f85b6b3091e3b19c3d355a47ac37c277e4ec94bc"
   },
   "source": [
    "Author: Hamza Bendemra <br>\n",
    "Python version: 3.6.8 <br>"
   ]
  },
  {
   "cell_type": "markdown",
   "metadata": {},
   "source": [
    "**Contents:**\n",
    "* [1. Framing the Problem](#first-bullet)\n",
    "* [2. Get the Data](#second-bullet)\n",
    "* [3. Exploratory Data Analysis](#third-bullet)\n",
    "* [4. Data Preparation](#fourth-bullet)\n",
    "* [5. Maching Learning Models](#fifth-bullet)\n",
    "* [6 . Fine-Tuning ML Hyper-Parameters](#sixth-bullet)\n",
    "* [7 . Blending ML Algorithms](#seventh-bullet)\n",
    "* [8 . Submission](#eigth-bullet)"
   ]
  },
  {
   "cell_type": "markdown",
   "metadata": {
    "_cell_guid": "fa6e087e-d78f-49a2-b896-577ace4a5bf0",
    "_uuid": "c557154a8a259713c04d293f49c9844f522af4b4"
   },
   "source": [
    "First of all, I would like to acknowledge some great kernels out there that have influenced my approach in this kernel. I highly recommend checking them out also:\n",
    "- [Stacked Regressions : Top 4% on LeaderBoard](https://www.kaggle.com/serigne/stacked-regressions-top-4-on-leaderboard) by Serigne \n",
    "- [Comprehensive data exploration with Python](https://www.kaggle.com/pmarcelino/comprehensive-data-exploration-with-python) by Pedro Marcelino\n",
    "- [Blend&Stack LR&GB = 0.10649 {House Prices} v57](https://www.kaggle.com/itslek/blend-stack-lr-gb-0-10649-house-prices-v57) by Nanashi"
   ]
  },
  {
   "cell_type": "markdown",
   "metadata": {},
   "source": [
    "----\n",
    "<a class=\"anchor\" id=\"first-bullet\"></a>\n",
    "## 1. Framing the Problem"
   ]
  },
  {
   "cell_type": "markdown",
   "metadata": {},
   "source": [
    "With **79 explanatory variables** describing (almost) every aspect of residential homes in Ames, Iowa, this competition challenges you to predict the final price of each home. Great for **practicing skills** such as: <br>\n",
    "- Creative feature engineering\n",
    "- Advanced regression techniques like random forest and gradient boosting"
   ]
  },
  {
   "cell_type": "markdown",
   "metadata": {},
   "source": [
    "Submitted datasets include: <br>\n",
    "- train.csv - the training set\n",
    "- test.csv - the test set\n",
    "- data_description.txt - full description of each column"
   ]
  },
  {
   "cell_type": "markdown",
   "metadata": {},
   "source": [
    "In this ML project, we will train an ML model to predict a home's value based on supplied feature vectors. <br>\n",
    "We will also look at what are the **leading predictors to determine home's value**. <br>\n",
    "\n",
    "ML category: **Supervised Learning (offline)** <br>\n",
    "Problem Type: **Regression** <br>\n",
    "Target outcome type: **Numerical** <br>\n",
    "Data Type: **Tabular** (CSV files) <br>\n",
    "Performance Measure: **Root-Mean-Squared-Error (RMSE)** between the logarithm of the predicted value and the logarithm of the observed sales price. <br>\n",
    "Performance Requirement: **minimize RMSE** <br>"
   ]
  },
  {
   "cell_type": "markdown",
   "metadata": {
    "_cell_guid": "6318998a-0f7d-4ef8-b15a-aeb41016d047",
    "_uuid": "4337749d80fc792e260b812ec6733d102d7f77d7"
   },
   "source": [
    "----\n",
    "<a class=\"anchor\" id=\"second-bullet\"></a>\n",
    "## 2. Get the Data"
   ]
  },
  {
   "cell_type": "markdown",
   "metadata": {},
   "source": [
    "### 2.1 Import Python libraries"
   ]
  },
  {
   "cell_type": "code",
   "execution_count": 1,
   "metadata": {
    "ExecuteTime": {
     "end_time": "2019-07-03T08:17:30.963628Z",
     "start_time": "2019-07-03T08:17:19.809129Z"
    }
   },
   "outputs": [
    {
     "name": "stdout",
     "output_type": "stream",
     "text": [
      "Python version: 3.6.6 |Anaconda, Inc.| (default, Oct  9 2018, 12:34:16) \n",
      "[GCC 7.3.0]\n",
      "Python environment: /opt/conda/bin/python\n",
      "pandas version: 0.23.4\n",
      "matplotlib version: 3.0.0\n",
      "seaborn version: 0.9.0\n",
      "NumPy version: 1.16.4\n",
      "SciPy version: 1.3.0\n",
      "IPython version: 7.5.0\n",
      "Imported required Python packages\n"
     ]
    }
   ],
   "source": [
    "# importing Python modules\n",
    "import os\n",
    "import sys #access to system parameters https://docs.python.org/3/library/sys.html\n",
    "print(\"Python version: {}\". format(sys.version))\n",
    "print(\"Python environment: {}\".format(sys.executable))\n",
    "\n",
    "import pandas as pd \n",
    "from pandas import ExcelWriter\n",
    "from pandas import ExcelFile\n",
    "#from openpyxl import load_workbook\n",
    "print(\"pandas version: {}\". format(pd.__version__))\n",
    "\n",
    "import plotly_express as px\n",
    "import matplotlib #collection of functions for scientific and publication-ready visualization\n",
    "import matplotlib.pyplot as plt # for plotting\n",
    "%matplotlib inline\n",
    "print(\"matplotlib version: {}\". format(matplotlib.__version__))\n",
    "import seaborn as sns # for making plots with seaborn\n",
    "color = sns.color_palette()\n",
    "print(\"seaborn version: {}\". format(sns.__version__))\n",
    "\n",
    "import numpy as np #foundational package for scientific computing\n",
    "print(\"NumPy version: {}\". format(np.__version__))\n",
    "import scipy as sp #collection of functions for scientific computing and advance mathematics\n",
    "from scipy import stats\n",
    "from scipy.stats import norm, skew\n",
    "from scipy.special import boxcox1p\n",
    "from scipy.stats import boxcox_normmax\n",
    "print(\"SciPy version: {}\". format(sp.__version__)) \n",
    "\n",
    "import IPython\n",
    "from IPython import display #pretty printing of dataframes in Jupyter notebook\n",
    "from IPython.display import display\n",
    "pd.options.display.max_columns = None\n",
    "print(\"IPython version: {}\". format(IPython.__version__)) \n",
    "\n",
    "import datetime\n",
    "from datetime import datetime\n",
    "from dateutil.parser import parse\n",
    "from time import time\n",
    "\n",
    "# to make this notebook's output identical at every run\n",
    "np.random.seed(42)\n",
    "\n",
    "print(\"Imported required Python packages\")"
   ]
  },
  {
   "cell_type": "code",
   "execution_count": 2,
   "metadata": {
    "ExecuteTime": {
     "end_time": "2019-07-03T08:17:32.440946Z",
     "start_time": "2019-07-03T08:17:30.971149Z"
    }
   },
   "outputs": [
    {
     "name": "stdout",
     "output_type": "stream",
     "text": [
      "scikit-learn version: 0.21.2\n",
      "scikit-learn libraries imported successfully\n",
      "lightgbm imported\n",
      "xgboost imported\n",
      "StackingRegressor imported\n"
     ]
    }
   ],
   "source": [
    "# scikit-learn modules\n",
    "import sklearn\n",
    "print(\"scikit-learn version: {}\". format(sklearn.__version__))\n",
    "# sklearn modules for preprocessing\n",
    "from sklearn.preprocessing import OneHotEncoder, LabelEncoder\n",
    "# from imblearn.over_sampling import SMOTE  # SMOTE\n",
    "# sklearn modules for ML model selection\n",
    "from sklearn.model_selection import train_test_split  # import 'train_test_split'\n",
    "from sklearn.model_selection import GridSearchCV\n",
    "from sklearn.model_selection import RandomizedSearchCV\n",
    "from sklearn.model_selection import ShuffleSplit\n",
    "from sklearn.model_selection import KFold\n",
    "from sklearn.model_selection import cross_val_score\n",
    "\n",
    "# Libraries for data modelling\n",
    "from sklearn import svm, tree, linear_model, neighbors\n",
    "from sklearn import naive_bayes, ensemble, discriminant_analysis, gaussian_process\n",
    "from sklearn.linear_model import LogisticRegression, LinearRegression\n",
    "from sklearn.linear_model import Ridge, RidgeCV\n",
    "from sklearn.linear_model import ElasticNet, ElasticNetCV\n",
    "from sklearn.tree import DecisionTreeClassifier, DecisionTreeRegressor\n",
    "from sklearn.neighbors import KNeighborsClassifier\n",
    "from sklearn.discriminant_analysis import LinearDiscriminantAnalysis\n",
    "from sklearn.naive_bayes import GaussianNB\n",
    "from sklearn.svm import SVC\n",
    "from sklearn.svm import SVR\n",
    "from sklearn.neighbors import KNeighborsClassifier\n",
    "from sklearn.ensemble import RandomForestClassifier\n",
    "from sklearn.ensemble import RandomForestRegressor # import RandomForestRegressor\n",
    "from sklearn.ensemble  import AdaBoostClassifier\n",
    "from sklearn.ensemble  import GradientBoostingRegressor\n",
    "from sklearn.linear_model import Lasso\n",
    "\n",
    "# Common sklearn Model Helpers\n",
    "from sklearn import feature_selection\n",
    "from sklearn import model_selection\n",
    "from sklearn import metrics\n",
    "from sklearn.impute import SimpleImputer\n",
    "from sklearn.preprocessing import StandardScaler, OneHotEncoder\n",
    "from sklearn.preprocessing import MinMaxScaler, RobustScaler\n",
    "# from sklearn.datasets import make_classification\n",
    "\n",
    "# sklearn modules for performance metrics\n",
    "from sklearn.metrics import confusion_matrix, classification_report, precision_recall_curve\n",
    "from sklearn.metrics import auc, roc_auc_score, roc_curve, recall_score, log_loss\n",
    "from sklearn.metrics import f1_score, accuracy_score, roc_auc_score, make_scorer\n",
    "from sklearn.metrics import average_precision_score\n",
    "from sklearn.metrics import r2_score, make_scorer, mean_squared_error\n",
    "print(\"scikit-learn libraries imported successfully\")\n",
    "\n",
    "# Other ML algorithms\n",
    "from lightgbm import LGBMRegressor\n",
    "print(\"lightgbm imported\")\n",
    "import xgboost as xgb\n",
    "print(\"xgboost imported\")\n",
    "from mlxtend.regressor import StackingCVRegressor, StackingRegressor\n",
    "print(\"StackingRegressor imported\")"
   ]
  },
  {
   "cell_type": "code",
   "execution_count": 3,
   "metadata": {},
   "outputs": [],
   "source": [
    "import warnings\n",
    "warnings.simplefilter('ignore')\n",
    "#warnings.simplefilter(action='ignore', category=FutureWarning)"
   ]
  },
  {
   "cell_type": "markdown",
   "metadata": {},
   "source": [
    "### 2.2 Import data"
   ]
  },
  {
   "cell_type": "markdown",
   "metadata": {},
   "source": [
    "The data is provided by the Kaggle competition in the form or of two CSV files. <br>\n",
    "A **training** and **testing** dataset are provided."
   ]
  },
  {
   "cell_type": "code",
   "execution_count": 4,
   "metadata": {
    "ExecuteTime": {
     "end_time": "2019-07-03T08:17:32.497613Z",
     "start_time": "2019-07-03T08:17:32.443846Z"
    },
    "_cell_guid": "2ebaf7b7-a1ca-45c2-b02e-efa040c96908",
    "_uuid": "75ec749c484bff98e59ac414f7e2624d433fa90b"
   },
   "outputs": [
    {
     "name": "stdout",
     "output_type": "stream",
     "text": [
      "['sample_submission.csv', 'train.csv', 'test.csv', 'data_description.txt']\n"
     ]
    }
   ],
   "source": [
    "# Input data files are available in the \"../input/\" directory.\n",
    "print(os.listdir(\"../input\"))\n",
    "# Any results written to the current directory are saved as output."
   ]
  },
  {
   "cell_type": "code",
   "execution_count": 5,
   "metadata": {
    "ExecuteTime": {
     "end_time": "2019-07-03T08:17:32.870508Z",
     "start_time": "2019-07-03T08:17:32.508024Z"
    },
    "_cell_guid": "64b71113-f6d0-4e1b-aa4e-b3aca386de2b",
    "_uuid": "1604aab797ba2b03323cf72e1eb156784ad870ad"
   },
   "outputs": [
    {
     "name": "stdout",
     "output_type": "stream",
     "text": [
      "(1460, 81) (1459, 80)\n"
     ]
    }
   ],
   "source": [
    "# importing the supplied dataset and storing it in a dataframe\n",
    "training = pd.read_csv('../input/train.csv')\n",
    "test = pd.read_csv('../input/test.csv')\n",
    "# making copies of original datasets for rest of this kernel\n",
    "df_train = training.copy()\n",
    "df_test = test.copy()\n",
    "print(df_train.shape, df_test.shape)"
   ]
  },
  {
   "cell_type": "code",
   "execution_count": 6,
   "metadata": {
    "ExecuteTime": {
     "end_time": "2019-07-03T08:17:32.907666Z",
     "start_time": "2019-07-03T08:17:32.873369Z"
    },
    "_cell_guid": "b5128799-0ea9-4ce1-b02e-f41e44767292",
    "_uuid": "50ec88c02b7bc264cb96601624e29722c9429407"
   },
   "outputs": [
    {
     "name": "stdout",
     "output_type": "stream",
     "text": [
      "Training: (1460, 80), Target: (1460,), Test: (1459, 80)\n"
     ]
    }
   ],
   "source": [
    "#drop target variable from training dataset\n",
    "target = df_train['SalePrice']  #target variable\n",
    "df_train = df_train.drop('SalePrice', axis=1) \n",
    "\n",
    "print(\"Training: {}, Target: {}, Test: {}\".format(df_train.shape, target.shape, df_test.shape))"
   ]
  },
  {
   "cell_type": "markdown",
   "metadata": {
    "_cell_guid": "0563ec4e-8fe7-470c-b705-6179a9de6a8c",
    "_uuid": "1c23072cf27f26b227a24deb1472de7f326ca92d"
   },
   "source": [
    "----\n",
    "<a class=\"anchor\" id=\"third-bullet\"></a>\n",
    "## 3. Exploratory Data Analysis"
   ]
  },
  {
   "cell_type": "markdown",
   "metadata": {
    "_cell_guid": "4cc5dfd9-a56b-49fa-89e4-59da9885eaca",
    "_uuid": "fa5b9d8bcd16987f0bfe553a2f6f5344f8617376"
   },
   "source": [
    "> It is important to deploy **descriptive and graphical statistics** to look for potential **problems**, **patterns**, **classifications**, **correlations** and **comparisons** in the dataset. In addition, **data categorization** (i.e. qualitative vs quantitative) is also important to understand and select the correct hypothesis test or data model."
   ]
  },
  {
   "cell_type": "markdown",
   "metadata": {},
   "source": [
    "### 3.1 Quick EDA"
   ]
  },
  {
   "cell_type": "code",
   "execution_count": 7,
   "metadata": {
    "ExecuteTime": {
     "end_time": "2019-07-03T08:17:33.004800Z",
     "start_time": "2019-07-03T08:17:32.951645Z"
    }
   },
   "outputs": [
    {
     "name": "stdout",
     "output_type": "stream",
     "text": [
      "(1460, 80)\n"
     ]
    }
   ],
   "source": [
    "df_train_exp = df_train.copy() #make a copy of the training dataset for EDA purposes\n",
    "print(df_train_exp.shape) "
   ]
  },
  {
   "cell_type": "markdown",
   "metadata": {},
   "source": [
    "**We have 1460 observations of 80 variables in the training dataframe**. The variables are described below: <br>\n",
    "\n",
    "> **SalePrice** - the property's sale price in dollars. This is the target variable that you're trying to predict. <br><br>\n",
    "MSSubClass: The building class <br>\n",
    "MSZoning: The general zoning classification <br>\n",
    "LotFrontage: Linear feet of street connected to property <br>\n",
    "LotArea: Lot size in square feet <br>\n",
    "Street: Type of road access <br>\n",
    "Alley: Type of alley access <br>\n",
    "LotShape: General shape of property <br>\n",
    "LandContour: Flatness of the property <br>\n",
    "Utilities: Type of utilities available <br>\n",
    "LotConfig: Lot configuration <br>\n",
    "LandSlope: Slope of property <br>\n",
    "Neighborhood: Physical locations within Ames city limits <br>\n",
    "Condition1: Proximity to main road or railroad <br>\n",
    "Condition2: Proximity to main road or railroad (if a second is present) <br>\n",
    "BldgType: Type of dwelling <br>\n",
    "HouseStyle: Style of dwelling <br>\n",
    "OverallQual: Overall material and finish quality <br>\n",
    "OverallCond: Overall condition rating <br>\n",
    "YearBuilt: Original construction date <br>\n",
    "YearRemodAdd: Remodel date <br>\n",
    "RoofStyle: Type of roof <br>\n",
    "RoofMatl: Roof material <br>\n",
    "Exterior1st: Exterior covering on house <br>\n",
    "Exterior2nd: Exterior covering on house (if more than one material) <br>\n",
    "MasVnrType: Masonry veneer type <br>\n",
    "MasVnrArea: Masonry veneer area in square feet <br>\n",
    "ExterQual: Exterior material quality <br>\n",
    "ExterCond: Present condition of the material on the exterior <br>\n",
    "Foundation: Type of foundation <br>\n",
    "BsmtQual: Height of the basement <br>\n",
    "BsmtCond: General condition of the basement <br>\n",
    "BsmtExposure: Walkout or garden level basement walls <br>\n",
    "BsmtFinType1: Quality of basement finished area <br>\n",
    "BsmtFinSF1: Type 1 finished square feet <br>\n",
    "BsmtFinType2: Quality of second finished area (if present) <br>\n",
    "BsmtFinSF2: Type 2 finished square feet <br>\n",
    "BsmtUnfSF: Unfinished square feet of basement area <br>\n",
    "TotalBsmtSF: Total square feet of basement area <br>\n",
    "Heating: Type of heating <br>\n",
    "HeatingQC: Heating quality and condition <br>\n",
    "CentralAir: Central air conditioning <br>\n",
    "Electrical: Electrical system <br>\n",
    "1stFlrSF: First Floor square feet <br>\n",
    "2ndFlrSF: Second floor square feet <br>\n",
    "LowQualFinSF: Low quality finished square feet (all floors) <br>\n",
    "GrLivArea: Above grade (ground) living area square feet <br>\n",
    "BsmtFullBath: Basement full bathrooms <br>\n",
    "BsmtHalfBath: Basement half bathrooms <br>\n",
    "FullBath: Full bathrooms above grade <br>\n",
    "HalfBath: Half baths above grade <br> \n",
    "Bedroom: Number of bedrooms above basement level <br> \n",
    "Kitchen: Number of kitchens <br> \n",
    "KitchenQual: Kitchen quality <br> \n",
    "TotRmsAbvGrd: Total rooms above grade (does not include bathrooms) <br> \n",
    "Functional: Home functionality rating\n",
    "Fireplaces: Number of fireplaces <br>\n",
    "FireplaceQu: Fireplace quality <br>\n",
    "GarageType: Garage location <br>\n",
    "GarageYrBlt: Year garage was built <br>\n",
    "GarageFinish: Interior finish of the garage <br>\n",
    "GarageCars: Size of garage in car capacity <br>\n",
    "GarageArea: Size of garage in square feet <br>\n",
    "GarageQual: Garage quality <br>\n",
    "GarageCond: Garage condition <br>\n",
    "PavedDrive: Paved driveway <br>\n",
    "WoodDeckSF: Wood deck area in square feet <br>\n",
    "OpenPorchSF: Open porch area in square feet <br>\n",
    "EnclosedPorch: Enclosed porch area in square feet <br>\n",
    "3SsnPorch: Three season porch area in square feet <br>\n",
    "ScreenPorch: Screen porch area in square feet <br>\n",
    "PoolArea: Pool area in square feet <br>\n",
    "PoolQC: Pool quality <br>\n",
    "Fence: Fence quality <br>\n",
    "MiscFeature: Miscellaneous feature not covered in other categories <br>\n",
    "MiscVal: $Value of miscellaneous feature <br>\n",
    "MoSold: Month Sold <br>\n",
    "YrSold: Year Sold <br>\n",
    "SaleType: Type of sale <br>\n",
    "SaleCondition: Condition of sale <br>"
   ]
  },
  {
   "cell_type": "code",
   "execution_count": 8,
   "metadata": {
    "ExecuteTime": {
     "end_time": "2019-07-03T08:17:33.190939Z",
     "start_time": "2019-07-03T08:17:33.010547Z"
    },
    "_cell_guid": "85de87b3-15f3-44fe-a02d-ef135b189cff",
    "_uuid": "b57309a969ae79426196bb1e89efc97e37838b1e"
   },
   "outputs": [
    {
     "data": {
      "text/html": [
       "<div>\n",
       "<style scoped>\n",
       "    .dataframe tbody tr th:only-of-type {\n",
       "        vertical-align: middle;\n",
       "    }\n",
       "\n",
       "    .dataframe tbody tr th {\n",
       "        vertical-align: top;\n",
       "    }\n",
       "\n",
       "    .dataframe thead th {\n",
       "        text-align: right;\n",
       "    }\n",
       "</style>\n",
       "<table border=\"1\" class=\"dataframe\">\n",
       "  <thead>\n",
       "    <tr style=\"text-align: right;\">\n",
       "      <th></th>\n",
       "      <th>Id</th>\n",
       "      <th>MSSubClass</th>\n",
       "      <th>MSZoning</th>\n",
       "      <th>LotFrontage</th>\n",
       "      <th>LotArea</th>\n",
       "      <th>Street</th>\n",
       "      <th>Alley</th>\n",
       "      <th>LotShape</th>\n",
       "      <th>LandContour</th>\n",
       "      <th>Utilities</th>\n",
       "      <th>LotConfig</th>\n",
       "      <th>LandSlope</th>\n",
       "      <th>Neighborhood</th>\n",
       "      <th>Condition1</th>\n",
       "      <th>Condition2</th>\n",
       "      <th>BldgType</th>\n",
       "      <th>HouseStyle</th>\n",
       "      <th>OverallQual</th>\n",
       "      <th>OverallCond</th>\n",
       "      <th>YearBuilt</th>\n",
       "      <th>YearRemodAdd</th>\n",
       "      <th>RoofStyle</th>\n",
       "      <th>RoofMatl</th>\n",
       "      <th>Exterior1st</th>\n",
       "      <th>Exterior2nd</th>\n",
       "      <th>MasVnrType</th>\n",
       "      <th>MasVnrArea</th>\n",
       "      <th>ExterQual</th>\n",
       "      <th>ExterCond</th>\n",
       "      <th>Foundation</th>\n",
       "      <th>BsmtQual</th>\n",
       "      <th>BsmtCond</th>\n",
       "      <th>BsmtExposure</th>\n",
       "      <th>BsmtFinType1</th>\n",
       "      <th>BsmtFinSF1</th>\n",
       "      <th>BsmtFinType2</th>\n",
       "      <th>BsmtFinSF2</th>\n",
       "      <th>BsmtUnfSF</th>\n",
       "      <th>TotalBsmtSF</th>\n",
       "      <th>Heating</th>\n",
       "      <th>HeatingQC</th>\n",
       "      <th>CentralAir</th>\n",
       "      <th>Electrical</th>\n",
       "      <th>1stFlrSF</th>\n",
       "      <th>2ndFlrSF</th>\n",
       "      <th>LowQualFinSF</th>\n",
       "      <th>GrLivArea</th>\n",
       "      <th>BsmtFullBath</th>\n",
       "      <th>BsmtHalfBath</th>\n",
       "      <th>FullBath</th>\n",
       "      <th>HalfBath</th>\n",
       "      <th>BedroomAbvGr</th>\n",
       "      <th>KitchenAbvGr</th>\n",
       "      <th>KitchenQual</th>\n",
       "      <th>TotRmsAbvGrd</th>\n",
       "      <th>Functional</th>\n",
       "      <th>Fireplaces</th>\n",
       "      <th>FireplaceQu</th>\n",
       "      <th>GarageType</th>\n",
       "      <th>GarageYrBlt</th>\n",
       "      <th>GarageFinish</th>\n",
       "      <th>GarageCars</th>\n",
       "      <th>GarageArea</th>\n",
       "      <th>GarageQual</th>\n",
       "      <th>GarageCond</th>\n",
       "      <th>PavedDrive</th>\n",
       "      <th>WoodDeckSF</th>\n",
       "      <th>OpenPorchSF</th>\n",
       "      <th>EnclosedPorch</th>\n",
       "      <th>3SsnPorch</th>\n",
       "      <th>ScreenPorch</th>\n",
       "      <th>PoolArea</th>\n",
       "      <th>PoolQC</th>\n",
       "      <th>Fence</th>\n",
       "      <th>MiscFeature</th>\n",
       "      <th>MiscVal</th>\n",
       "      <th>MoSold</th>\n",
       "      <th>YrSold</th>\n",
       "      <th>SaleType</th>\n",
       "      <th>SaleCondition</th>\n",
       "    </tr>\n",
       "  </thead>\n",
       "  <tbody>\n",
       "    <tr>\n",
       "      <th>0</th>\n",
       "      <td>1</td>\n",
       "      <td>60</td>\n",
       "      <td>RL</td>\n",
       "      <td>65.0</td>\n",
       "      <td>8450</td>\n",
       "      <td>Pave</td>\n",
       "      <td>NaN</td>\n",
       "      <td>Reg</td>\n",
       "      <td>Lvl</td>\n",
       "      <td>AllPub</td>\n",
       "      <td>Inside</td>\n",
       "      <td>Gtl</td>\n",
       "      <td>CollgCr</td>\n",
       "      <td>Norm</td>\n",
       "      <td>Norm</td>\n",
       "      <td>1Fam</td>\n",
       "      <td>2Story</td>\n",
       "      <td>7</td>\n",
       "      <td>5</td>\n",
       "      <td>2003</td>\n",
       "      <td>2003</td>\n",
       "      <td>Gable</td>\n",
       "      <td>CompShg</td>\n",
       "      <td>VinylSd</td>\n",
       "      <td>VinylSd</td>\n",
       "      <td>BrkFace</td>\n",
       "      <td>196.0</td>\n",
       "      <td>Gd</td>\n",
       "      <td>TA</td>\n",
       "      <td>PConc</td>\n",
       "      <td>Gd</td>\n",
       "      <td>TA</td>\n",
       "      <td>No</td>\n",
       "      <td>GLQ</td>\n",
       "      <td>706</td>\n",
       "      <td>Unf</td>\n",
       "      <td>0</td>\n",
       "      <td>150</td>\n",
       "      <td>856</td>\n",
       "      <td>GasA</td>\n",
       "      <td>Ex</td>\n",
       "      <td>Y</td>\n",
       "      <td>SBrkr</td>\n",
       "      <td>856</td>\n",
       "      <td>854</td>\n",
       "      <td>0</td>\n",
       "      <td>1710</td>\n",
       "      <td>1</td>\n",
       "      <td>0</td>\n",
       "      <td>2</td>\n",
       "      <td>1</td>\n",
       "      <td>3</td>\n",
       "      <td>1</td>\n",
       "      <td>Gd</td>\n",
       "      <td>8</td>\n",
       "      <td>Typ</td>\n",
       "      <td>0</td>\n",
       "      <td>NaN</td>\n",
       "      <td>Attchd</td>\n",
       "      <td>2003.0</td>\n",
       "      <td>RFn</td>\n",
       "      <td>2</td>\n",
       "      <td>548</td>\n",
       "      <td>TA</td>\n",
       "      <td>TA</td>\n",
       "      <td>Y</td>\n",
       "      <td>0</td>\n",
       "      <td>61</td>\n",
       "      <td>0</td>\n",
       "      <td>0</td>\n",
       "      <td>0</td>\n",
       "      <td>0</td>\n",
       "      <td>NaN</td>\n",
       "      <td>NaN</td>\n",
       "      <td>NaN</td>\n",
       "      <td>0</td>\n",
       "      <td>2</td>\n",
       "      <td>2008</td>\n",
       "      <td>WD</td>\n",
       "      <td>Normal</td>\n",
       "    </tr>\n",
       "    <tr>\n",
       "      <th>1</th>\n",
       "      <td>2</td>\n",
       "      <td>20</td>\n",
       "      <td>RL</td>\n",
       "      <td>80.0</td>\n",
       "      <td>9600</td>\n",
       "      <td>Pave</td>\n",
       "      <td>NaN</td>\n",
       "      <td>Reg</td>\n",
       "      <td>Lvl</td>\n",
       "      <td>AllPub</td>\n",
       "      <td>FR2</td>\n",
       "      <td>Gtl</td>\n",
       "      <td>Veenker</td>\n",
       "      <td>Feedr</td>\n",
       "      <td>Norm</td>\n",
       "      <td>1Fam</td>\n",
       "      <td>1Story</td>\n",
       "      <td>6</td>\n",
       "      <td>8</td>\n",
       "      <td>1976</td>\n",
       "      <td>1976</td>\n",
       "      <td>Gable</td>\n",
       "      <td>CompShg</td>\n",
       "      <td>MetalSd</td>\n",
       "      <td>MetalSd</td>\n",
       "      <td>None</td>\n",
       "      <td>0.0</td>\n",
       "      <td>TA</td>\n",
       "      <td>TA</td>\n",
       "      <td>CBlock</td>\n",
       "      <td>Gd</td>\n",
       "      <td>TA</td>\n",
       "      <td>Gd</td>\n",
       "      <td>ALQ</td>\n",
       "      <td>978</td>\n",
       "      <td>Unf</td>\n",
       "      <td>0</td>\n",
       "      <td>284</td>\n",
       "      <td>1262</td>\n",
       "      <td>GasA</td>\n",
       "      <td>Ex</td>\n",
       "      <td>Y</td>\n",
       "      <td>SBrkr</td>\n",
       "      <td>1262</td>\n",
       "      <td>0</td>\n",
       "      <td>0</td>\n",
       "      <td>1262</td>\n",
       "      <td>0</td>\n",
       "      <td>1</td>\n",
       "      <td>2</td>\n",
       "      <td>0</td>\n",
       "      <td>3</td>\n",
       "      <td>1</td>\n",
       "      <td>TA</td>\n",
       "      <td>6</td>\n",
       "      <td>Typ</td>\n",
       "      <td>1</td>\n",
       "      <td>TA</td>\n",
       "      <td>Attchd</td>\n",
       "      <td>1976.0</td>\n",
       "      <td>RFn</td>\n",
       "      <td>2</td>\n",
       "      <td>460</td>\n",
       "      <td>TA</td>\n",
       "      <td>TA</td>\n",
       "      <td>Y</td>\n",
       "      <td>298</td>\n",
       "      <td>0</td>\n",
       "      <td>0</td>\n",
       "      <td>0</td>\n",
       "      <td>0</td>\n",
       "      <td>0</td>\n",
       "      <td>NaN</td>\n",
       "      <td>NaN</td>\n",
       "      <td>NaN</td>\n",
       "      <td>0</td>\n",
       "      <td>5</td>\n",
       "      <td>2007</td>\n",
       "      <td>WD</td>\n",
       "      <td>Normal</td>\n",
       "    </tr>\n",
       "    <tr>\n",
       "      <th>2</th>\n",
       "      <td>3</td>\n",
       "      <td>60</td>\n",
       "      <td>RL</td>\n",
       "      <td>68.0</td>\n",
       "      <td>11250</td>\n",
       "      <td>Pave</td>\n",
       "      <td>NaN</td>\n",
       "      <td>IR1</td>\n",
       "      <td>Lvl</td>\n",
       "      <td>AllPub</td>\n",
       "      <td>Inside</td>\n",
       "      <td>Gtl</td>\n",
       "      <td>CollgCr</td>\n",
       "      <td>Norm</td>\n",
       "      <td>Norm</td>\n",
       "      <td>1Fam</td>\n",
       "      <td>2Story</td>\n",
       "      <td>7</td>\n",
       "      <td>5</td>\n",
       "      <td>2001</td>\n",
       "      <td>2002</td>\n",
       "      <td>Gable</td>\n",
       "      <td>CompShg</td>\n",
       "      <td>VinylSd</td>\n",
       "      <td>VinylSd</td>\n",
       "      <td>BrkFace</td>\n",
       "      <td>162.0</td>\n",
       "      <td>Gd</td>\n",
       "      <td>TA</td>\n",
       "      <td>PConc</td>\n",
       "      <td>Gd</td>\n",
       "      <td>TA</td>\n",
       "      <td>Mn</td>\n",
       "      <td>GLQ</td>\n",
       "      <td>486</td>\n",
       "      <td>Unf</td>\n",
       "      <td>0</td>\n",
       "      <td>434</td>\n",
       "      <td>920</td>\n",
       "      <td>GasA</td>\n",
       "      <td>Ex</td>\n",
       "      <td>Y</td>\n",
       "      <td>SBrkr</td>\n",
       "      <td>920</td>\n",
       "      <td>866</td>\n",
       "      <td>0</td>\n",
       "      <td>1786</td>\n",
       "      <td>1</td>\n",
       "      <td>0</td>\n",
       "      <td>2</td>\n",
       "      <td>1</td>\n",
       "      <td>3</td>\n",
       "      <td>1</td>\n",
       "      <td>Gd</td>\n",
       "      <td>6</td>\n",
       "      <td>Typ</td>\n",
       "      <td>1</td>\n",
       "      <td>TA</td>\n",
       "      <td>Attchd</td>\n",
       "      <td>2001.0</td>\n",
       "      <td>RFn</td>\n",
       "      <td>2</td>\n",
       "      <td>608</td>\n",
       "      <td>TA</td>\n",
       "      <td>TA</td>\n",
       "      <td>Y</td>\n",
       "      <td>0</td>\n",
       "      <td>42</td>\n",
       "      <td>0</td>\n",
       "      <td>0</td>\n",
       "      <td>0</td>\n",
       "      <td>0</td>\n",
       "      <td>NaN</td>\n",
       "      <td>NaN</td>\n",
       "      <td>NaN</td>\n",
       "      <td>0</td>\n",
       "      <td>9</td>\n",
       "      <td>2008</td>\n",
       "      <td>WD</td>\n",
       "      <td>Normal</td>\n",
       "    </tr>\n",
       "    <tr>\n",
       "      <th>3</th>\n",
       "      <td>4</td>\n",
       "      <td>70</td>\n",
       "      <td>RL</td>\n",
       "      <td>60.0</td>\n",
       "      <td>9550</td>\n",
       "      <td>Pave</td>\n",
       "      <td>NaN</td>\n",
       "      <td>IR1</td>\n",
       "      <td>Lvl</td>\n",
       "      <td>AllPub</td>\n",
       "      <td>Corner</td>\n",
       "      <td>Gtl</td>\n",
       "      <td>Crawfor</td>\n",
       "      <td>Norm</td>\n",
       "      <td>Norm</td>\n",
       "      <td>1Fam</td>\n",
       "      <td>2Story</td>\n",
       "      <td>7</td>\n",
       "      <td>5</td>\n",
       "      <td>1915</td>\n",
       "      <td>1970</td>\n",
       "      <td>Gable</td>\n",
       "      <td>CompShg</td>\n",
       "      <td>Wd Sdng</td>\n",
       "      <td>Wd Shng</td>\n",
       "      <td>None</td>\n",
       "      <td>0.0</td>\n",
       "      <td>TA</td>\n",
       "      <td>TA</td>\n",
       "      <td>BrkTil</td>\n",
       "      <td>TA</td>\n",
       "      <td>Gd</td>\n",
       "      <td>No</td>\n",
       "      <td>ALQ</td>\n",
       "      <td>216</td>\n",
       "      <td>Unf</td>\n",
       "      <td>0</td>\n",
       "      <td>540</td>\n",
       "      <td>756</td>\n",
       "      <td>GasA</td>\n",
       "      <td>Gd</td>\n",
       "      <td>Y</td>\n",
       "      <td>SBrkr</td>\n",
       "      <td>961</td>\n",
       "      <td>756</td>\n",
       "      <td>0</td>\n",
       "      <td>1717</td>\n",
       "      <td>1</td>\n",
       "      <td>0</td>\n",
       "      <td>1</td>\n",
       "      <td>0</td>\n",
       "      <td>3</td>\n",
       "      <td>1</td>\n",
       "      <td>Gd</td>\n",
       "      <td>7</td>\n",
       "      <td>Typ</td>\n",
       "      <td>1</td>\n",
       "      <td>Gd</td>\n",
       "      <td>Detchd</td>\n",
       "      <td>1998.0</td>\n",
       "      <td>Unf</td>\n",
       "      <td>3</td>\n",
       "      <td>642</td>\n",
       "      <td>TA</td>\n",
       "      <td>TA</td>\n",
       "      <td>Y</td>\n",
       "      <td>0</td>\n",
       "      <td>35</td>\n",
       "      <td>272</td>\n",
       "      <td>0</td>\n",
       "      <td>0</td>\n",
       "      <td>0</td>\n",
       "      <td>NaN</td>\n",
       "      <td>NaN</td>\n",
       "      <td>NaN</td>\n",
       "      <td>0</td>\n",
       "      <td>2</td>\n",
       "      <td>2006</td>\n",
       "      <td>WD</td>\n",
       "      <td>Abnorml</td>\n",
       "    </tr>\n",
       "    <tr>\n",
       "      <th>4</th>\n",
       "      <td>5</td>\n",
       "      <td>60</td>\n",
       "      <td>RL</td>\n",
       "      <td>84.0</td>\n",
       "      <td>14260</td>\n",
       "      <td>Pave</td>\n",
       "      <td>NaN</td>\n",
       "      <td>IR1</td>\n",
       "      <td>Lvl</td>\n",
       "      <td>AllPub</td>\n",
       "      <td>FR2</td>\n",
       "      <td>Gtl</td>\n",
       "      <td>NoRidge</td>\n",
       "      <td>Norm</td>\n",
       "      <td>Norm</td>\n",
       "      <td>1Fam</td>\n",
       "      <td>2Story</td>\n",
       "      <td>8</td>\n",
       "      <td>5</td>\n",
       "      <td>2000</td>\n",
       "      <td>2000</td>\n",
       "      <td>Gable</td>\n",
       "      <td>CompShg</td>\n",
       "      <td>VinylSd</td>\n",
       "      <td>VinylSd</td>\n",
       "      <td>BrkFace</td>\n",
       "      <td>350.0</td>\n",
       "      <td>Gd</td>\n",
       "      <td>TA</td>\n",
       "      <td>PConc</td>\n",
       "      <td>Gd</td>\n",
       "      <td>TA</td>\n",
       "      <td>Av</td>\n",
       "      <td>GLQ</td>\n",
       "      <td>655</td>\n",
       "      <td>Unf</td>\n",
       "      <td>0</td>\n",
       "      <td>490</td>\n",
       "      <td>1145</td>\n",
       "      <td>GasA</td>\n",
       "      <td>Ex</td>\n",
       "      <td>Y</td>\n",
       "      <td>SBrkr</td>\n",
       "      <td>1145</td>\n",
       "      <td>1053</td>\n",
       "      <td>0</td>\n",
       "      <td>2198</td>\n",
       "      <td>1</td>\n",
       "      <td>0</td>\n",
       "      <td>2</td>\n",
       "      <td>1</td>\n",
       "      <td>4</td>\n",
       "      <td>1</td>\n",
       "      <td>Gd</td>\n",
       "      <td>9</td>\n",
       "      <td>Typ</td>\n",
       "      <td>1</td>\n",
       "      <td>TA</td>\n",
       "      <td>Attchd</td>\n",
       "      <td>2000.0</td>\n",
       "      <td>RFn</td>\n",
       "      <td>3</td>\n",
       "      <td>836</td>\n",
       "      <td>TA</td>\n",
       "      <td>TA</td>\n",
       "      <td>Y</td>\n",
       "      <td>192</td>\n",
       "      <td>84</td>\n",
       "      <td>0</td>\n",
       "      <td>0</td>\n",
       "      <td>0</td>\n",
       "      <td>0</td>\n",
       "      <td>NaN</td>\n",
       "      <td>NaN</td>\n",
       "      <td>NaN</td>\n",
       "      <td>0</td>\n",
       "      <td>12</td>\n",
       "      <td>2008</td>\n",
       "      <td>WD</td>\n",
       "      <td>Normal</td>\n",
       "    </tr>\n",
       "  </tbody>\n",
       "</table>\n",
       "</div>"
      ],
      "text/plain": [
       "   Id  MSSubClass MSZoning  LotFrontage  LotArea Street Alley LotShape  \\\n",
       "0   1          60       RL         65.0     8450   Pave   NaN      Reg   \n",
       "1   2          20       RL         80.0     9600   Pave   NaN      Reg   \n",
       "2   3          60       RL         68.0    11250   Pave   NaN      IR1   \n",
       "3   4          70       RL         60.0     9550   Pave   NaN      IR1   \n",
       "4   5          60       RL         84.0    14260   Pave   NaN      IR1   \n",
       "\n",
       "  LandContour Utilities LotConfig LandSlope Neighborhood Condition1  \\\n",
       "0         Lvl    AllPub    Inside       Gtl      CollgCr       Norm   \n",
       "1         Lvl    AllPub       FR2       Gtl      Veenker      Feedr   \n",
       "2         Lvl    AllPub    Inside       Gtl      CollgCr       Norm   \n",
       "3         Lvl    AllPub    Corner       Gtl      Crawfor       Norm   \n",
       "4         Lvl    AllPub       FR2       Gtl      NoRidge       Norm   \n",
       "\n",
       "  Condition2 BldgType HouseStyle  OverallQual  OverallCond  YearBuilt  \\\n",
       "0       Norm     1Fam     2Story            7            5       2003   \n",
       "1       Norm     1Fam     1Story            6            8       1976   \n",
       "2       Norm     1Fam     2Story            7            5       2001   \n",
       "3       Norm     1Fam     2Story            7            5       1915   \n",
       "4       Norm     1Fam     2Story            8            5       2000   \n",
       "\n",
       "   YearRemodAdd RoofStyle RoofMatl Exterior1st Exterior2nd MasVnrType  \\\n",
       "0          2003     Gable  CompShg     VinylSd     VinylSd    BrkFace   \n",
       "1          1976     Gable  CompShg     MetalSd     MetalSd       None   \n",
       "2          2002     Gable  CompShg     VinylSd     VinylSd    BrkFace   \n",
       "3          1970     Gable  CompShg     Wd Sdng     Wd Shng       None   \n",
       "4          2000     Gable  CompShg     VinylSd     VinylSd    BrkFace   \n",
       "\n",
       "   MasVnrArea ExterQual ExterCond Foundation BsmtQual BsmtCond BsmtExposure  \\\n",
       "0       196.0        Gd        TA      PConc       Gd       TA           No   \n",
       "1         0.0        TA        TA     CBlock       Gd       TA           Gd   \n",
       "2       162.0        Gd        TA      PConc       Gd       TA           Mn   \n",
       "3         0.0        TA        TA     BrkTil       TA       Gd           No   \n",
       "4       350.0        Gd        TA      PConc       Gd       TA           Av   \n",
       "\n",
       "  BsmtFinType1  BsmtFinSF1 BsmtFinType2  BsmtFinSF2  BsmtUnfSF  TotalBsmtSF  \\\n",
       "0          GLQ         706          Unf           0        150          856   \n",
       "1          ALQ         978          Unf           0        284         1262   \n",
       "2          GLQ         486          Unf           0        434          920   \n",
       "3          ALQ         216          Unf           0        540          756   \n",
       "4          GLQ         655          Unf           0        490         1145   \n",
       "\n",
       "  Heating HeatingQC CentralAir Electrical  1stFlrSF  2ndFlrSF  LowQualFinSF  \\\n",
       "0    GasA        Ex          Y      SBrkr       856       854             0   \n",
       "1    GasA        Ex          Y      SBrkr      1262         0             0   \n",
       "2    GasA        Ex          Y      SBrkr       920       866             0   \n",
       "3    GasA        Gd          Y      SBrkr       961       756             0   \n",
       "4    GasA        Ex          Y      SBrkr      1145      1053             0   \n",
       "\n",
       "   GrLivArea  BsmtFullBath  BsmtHalfBath  FullBath  HalfBath  BedroomAbvGr  \\\n",
       "0       1710             1             0         2         1             3   \n",
       "1       1262             0             1         2         0             3   \n",
       "2       1786             1             0         2         1             3   \n",
       "3       1717             1             0         1         0             3   \n",
       "4       2198             1             0         2         1             4   \n",
       "\n",
       "   KitchenAbvGr KitchenQual  TotRmsAbvGrd Functional  Fireplaces FireplaceQu  \\\n",
       "0             1          Gd             8        Typ           0         NaN   \n",
       "1             1          TA             6        Typ           1          TA   \n",
       "2             1          Gd             6        Typ           1          TA   \n",
       "3             1          Gd             7        Typ           1          Gd   \n",
       "4             1          Gd             9        Typ           1          TA   \n",
       "\n",
       "  GarageType  GarageYrBlt GarageFinish  GarageCars  GarageArea GarageQual  \\\n",
       "0     Attchd       2003.0          RFn           2         548         TA   \n",
       "1     Attchd       1976.0          RFn           2         460         TA   \n",
       "2     Attchd       2001.0          RFn           2         608         TA   \n",
       "3     Detchd       1998.0          Unf           3         642         TA   \n",
       "4     Attchd       2000.0          RFn           3         836         TA   \n",
       "\n",
       "  GarageCond PavedDrive  WoodDeckSF  OpenPorchSF  EnclosedPorch  3SsnPorch  \\\n",
       "0         TA          Y           0           61              0          0   \n",
       "1         TA          Y         298            0              0          0   \n",
       "2         TA          Y           0           42              0          0   \n",
       "3         TA          Y           0           35            272          0   \n",
       "4         TA          Y         192           84              0          0   \n",
       "\n",
       "   ScreenPorch  PoolArea PoolQC Fence MiscFeature  MiscVal  MoSold  YrSold  \\\n",
       "0            0         0    NaN   NaN         NaN        0       2    2008   \n",
       "1            0         0    NaN   NaN         NaN        0       5    2007   \n",
       "2            0         0    NaN   NaN         NaN        0       9    2008   \n",
       "3            0         0    NaN   NaN         NaN        0       2    2006   \n",
       "4            0         0    NaN   NaN         NaN        0      12    2008   \n",
       "\n",
       "  SaleType SaleCondition  \n",
       "0       WD        Normal  \n",
       "1       WD        Normal  \n",
       "2       WD        Normal  \n",
       "3       WD       Abnorml  \n",
       "4       WD        Normal  "
      ]
     },
     "execution_count": 8,
     "metadata": {},
     "output_type": "execute_result"
    }
   ],
   "source": [
    "df_train_exp.head()"
   ]
  },
  {
   "cell_type": "code",
   "execution_count": 9,
   "metadata": {
    "ExecuteTime": {
     "end_time": "2019-07-03T08:17:33.268273Z",
     "start_time": "2019-07-03T08:17:33.196092Z"
    }
   },
   "outputs": [
    {
     "name": "stdout",
     "output_type": "stream",
     "text": [
      "37 Numerical columns, 43 Categorial columns\n"
     ]
    }
   ],
   "source": [
    "print(\"{} Numerical columns, {} Categorial columns\".format(\n",
    "    list(df_train_exp.select_dtypes(include=[np.number]).shape)[1],\n",
    "    list(df_train_exp.select_dtypes(include = ['object']).shape)[1]))"
   ]
  },
  {
   "cell_type": "markdown",
   "metadata": {
    "_cell_guid": "913a2a9f-09d5-474c-83f0-cf8d42fb1192",
    "_uuid": "95521831966782ad3b431a30ededa66e992bb32f"
   },
   "source": [
    "> We note that their are quite a few non-numerical variables, which would result in a large number of columns in our training dataframe once we implement one-hot encoding prior to fitting our model."
   ]
  },
  {
   "cell_type": "code",
   "execution_count": 10,
   "metadata": {
    "ExecuteTime": {
     "end_time": "2019-07-03T08:17:33.314963Z",
     "start_time": "2019-07-03T08:17:33.271247Z"
    },
    "_cell_guid": "c1ee4b30-a79e-46de-ae1d-217bc2e352a2",
    "_uuid": "cc333565ccaa2ddd14f75f7a63c74459ecdf256f"
   },
   "outputs": [
    {
     "data": {
      "text/plain": [
       "{dtype('int64'): Index(['Id', 'MSSubClass', 'LotArea', 'OverallQual', 'OverallCond',\n",
       "        'YearBuilt', 'YearRemodAdd', 'BsmtFinSF1', 'BsmtFinSF2', 'BsmtUnfSF',\n",
       "        'TotalBsmtSF', '1stFlrSF', '2ndFlrSF', 'LowQualFinSF', 'GrLivArea',\n",
       "        'BsmtFullBath', 'BsmtHalfBath', 'FullBath', 'HalfBath', 'BedroomAbvGr',\n",
       "        'KitchenAbvGr', 'TotRmsAbvGrd', 'Fireplaces', 'GarageCars',\n",
       "        'GarageArea', 'WoodDeckSF', 'OpenPorchSF', 'EnclosedPorch', '3SsnPorch',\n",
       "        'ScreenPorch', 'PoolArea', 'MiscVal', 'MoSold', 'YrSold'],\n",
       "       dtype='object'),\n",
       " dtype('float64'): Index(['LotFrontage', 'MasVnrArea', 'GarageYrBlt'], dtype='object'),\n",
       " dtype('O'): Index(['MSZoning', 'Street', 'Alley', 'LotShape', 'LandContour', 'Utilities',\n",
       "        'LotConfig', 'LandSlope', 'Neighborhood', 'Condition1', 'Condition2',\n",
       "        'BldgType', 'HouseStyle', 'RoofStyle', 'RoofMatl', 'Exterior1st',\n",
       "        'Exterior2nd', 'MasVnrType', 'ExterQual', 'ExterCond', 'Foundation',\n",
       "        'BsmtQual', 'BsmtCond', 'BsmtExposure', 'BsmtFinType1', 'BsmtFinType2',\n",
       "        'Heating', 'HeatingQC', 'CentralAir', 'Electrical', 'KitchenQual',\n",
       "        'Functional', 'FireplaceQu', 'GarageType', 'GarageFinish', 'GarageQual',\n",
       "        'GarageCond', 'PavedDrive', 'PoolQC', 'Fence', 'MiscFeature',\n",
       "        'SaleType', 'SaleCondition'],\n",
       "       dtype='object')}"
      ]
     },
     "execution_count": 10,
     "metadata": {},
     "output_type": "execute_result"
    }
   ],
   "source": [
    "# let's break down the columns by their type (i.e. int64, float64, object)\n",
    "df_train_exp.columns.to_series().groupby(df_train_exp.dtypes).groups"
   ]
  },
  {
   "cell_type": "code",
   "execution_count": 11,
   "metadata": {
    "ExecuteTime": {
     "end_time": "2019-07-03T08:17:33.369086Z",
     "start_time": "2019-07-03T08:17:33.318085Z"
    }
   },
   "outputs": [
    {
     "name": "stdout",
     "output_type": "stream",
     "text": [
      "19 columns have missing values:\n"
     ]
    },
    {
     "data": {
      "text/plain": [
       "['LotFrontage',\n",
       " 'Alley',\n",
       " 'MasVnrType',\n",
       " 'MasVnrArea',\n",
       " 'BsmtQual',\n",
       " 'BsmtCond',\n",
       " 'BsmtExposure',\n",
       " 'BsmtFinType1',\n",
       " 'BsmtFinType2',\n",
       " 'Electrical',\n",
       " 'FireplaceQu',\n",
       " 'GarageType',\n",
       " 'GarageYrBlt',\n",
       " 'GarageFinish',\n",
       " 'GarageQual',\n",
       " 'GarageCond',\n",
       " 'PoolQC',\n",
       " 'Fence',\n",
       " 'MiscFeature']"
      ]
     },
     "execution_count": 11,
     "metadata": {},
     "output_type": "execute_result"
    }
   ],
   "source": [
    "#list of columns with missing values\n",
    "print(\"{} columns have missing values:\".format(\n",
    "    len(df_train_exp.columns[df_train_exp.isna().any()].tolist())))\n",
    "df_train_exp.columns[df_train_exp.isna().any()].tolist()"
   ]
  },
  {
   "cell_type": "code",
   "execution_count": 12,
   "metadata": {
    "ExecuteTime": {
     "end_time": "2019-07-03T08:17:33.773496Z",
     "start_time": "2019-07-03T08:17:33.372107Z"
    },
    "_cell_guid": "a6e620a3-4543-420c-8b95-97f59d9de63d",
    "_uuid": "92c7d724ef835d2cac2ce6dd5d02ca512821bd34"
   },
   "outputs": [
    {
     "data": {
      "text/html": [
       "<div>\n",
       "<style scoped>\n",
       "    .dataframe tbody tr th:only-of-type {\n",
       "        vertical-align: middle;\n",
       "    }\n",
       "\n",
       "    .dataframe tbody tr th {\n",
       "        vertical-align: top;\n",
       "    }\n",
       "\n",
       "    .dataframe thead th {\n",
       "        text-align: right;\n",
       "    }\n",
       "</style>\n",
       "<table border=\"1\" class=\"dataframe\">\n",
       "  <thead>\n",
       "    <tr style=\"text-align: right;\">\n",
       "      <th></th>\n",
       "      <th>Id</th>\n",
       "      <th>MSSubClass</th>\n",
       "      <th>LotFrontage</th>\n",
       "      <th>LotArea</th>\n",
       "      <th>OverallQual</th>\n",
       "      <th>OverallCond</th>\n",
       "      <th>YearBuilt</th>\n",
       "      <th>YearRemodAdd</th>\n",
       "      <th>MasVnrArea</th>\n",
       "      <th>BsmtFinSF1</th>\n",
       "      <th>BsmtFinSF2</th>\n",
       "      <th>BsmtUnfSF</th>\n",
       "      <th>TotalBsmtSF</th>\n",
       "      <th>1stFlrSF</th>\n",
       "      <th>2ndFlrSF</th>\n",
       "      <th>LowQualFinSF</th>\n",
       "      <th>GrLivArea</th>\n",
       "      <th>BsmtFullBath</th>\n",
       "      <th>BsmtHalfBath</th>\n",
       "      <th>FullBath</th>\n",
       "      <th>HalfBath</th>\n",
       "      <th>BedroomAbvGr</th>\n",
       "      <th>KitchenAbvGr</th>\n",
       "      <th>TotRmsAbvGrd</th>\n",
       "      <th>Fireplaces</th>\n",
       "      <th>GarageYrBlt</th>\n",
       "      <th>GarageCars</th>\n",
       "      <th>GarageArea</th>\n",
       "      <th>WoodDeckSF</th>\n",
       "      <th>OpenPorchSF</th>\n",
       "      <th>EnclosedPorch</th>\n",
       "      <th>3SsnPorch</th>\n",
       "      <th>ScreenPorch</th>\n",
       "      <th>PoolArea</th>\n",
       "      <th>MiscVal</th>\n",
       "      <th>MoSold</th>\n",
       "      <th>YrSold</th>\n",
       "    </tr>\n",
       "  </thead>\n",
       "  <tbody>\n",
       "    <tr>\n",
       "      <th>count</th>\n",
       "      <td>1460.000000</td>\n",
       "      <td>1460.000000</td>\n",
       "      <td>1201.000000</td>\n",
       "      <td>1460.000000</td>\n",
       "      <td>1460.000000</td>\n",
       "      <td>1460.000000</td>\n",
       "      <td>1460.000000</td>\n",
       "      <td>1460.000000</td>\n",
       "      <td>1452.000000</td>\n",
       "      <td>1460.000000</td>\n",
       "      <td>1460.000000</td>\n",
       "      <td>1460.000000</td>\n",
       "      <td>1460.000000</td>\n",
       "      <td>1460.000000</td>\n",
       "      <td>1460.000000</td>\n",
       "      <td>1460.000000</td>\n",
       "      <td>1460.000000</td>\n",
       "      <td>1460.000000</td>\n",
       "      <td>1460.000000</td>\n",
       "      <td>1460.000000</td>\n",
       "      <td>1460.000000</td>\n",
       "      <td>1460.000000</td>\n",
       "      <td>1460.000000</td>\n",
       "      <td>1460.000000</td>\n",
       "      <td>1460.000000</td>\n",
       "      <td>1379.000000</td>\n",
       "      <td>1460.000000</td>\n",
       "      <td>1460.000000</td>\n",
       "      <td>1460.000000</td>\n",
       "      <td>1460.000000</td>\n",
       "      <td>1460.000000</td>\n",
       "      <td>1460.000000</td>\n",
       "      <td>1460.000000</td>\n",
       "      <td>1460.000000</td>\n",
       "      <td>1460.000000</td>\n",
       "      <td>1460.000000</td>\n",
       "      <td>1460.000000</td>\n",
       "    </tr>\n",
       "    <tr>\n",
       "      <th>mean</th>\n",
       "      <td>730.500000</td>\n",
       "      <td>56.897260</td>\n",
       "      <td>70.049958</td>\n",
       "      <td>10516.828082</td>\n",
       "      <td>6.099315</td>\n",
       "      <td>5.575342</td>\n",
       "      <td>1971.267808</td>\n",
       "      <td>1984.865753</td>\n",
       "      <td>103.685262</td>\n",
       "      <td>443.639726</td>\n",
       "      <td>46.549315</td>\n",
       "      <td>567.240411</td>\n",
       "      <td>1057.429452</td>\n",
       "      <td>1162.626712</td>\n",
       "      <td>346.992466</td>\n",
       "      <td>5.844521</td>\n",
       "      <td>1515.463699</td>\n",
       "      <td>0.425342</td>\n",
       "      <td>0.057534</td>\n",
       "      <td>1.565068</td>\n",
       "      <td>0.382877</td>\n",
       "      <td>2.866438</td>\n",
       "      <td>1.046575</td>\n",
       "      <td>6.517808</td>\n",
       "      <td>0.613014</td>\n",
       "      <td>1978.506164</td>\n",
       "      <td>1.767123</td>\n",
       "      <td>472.980137</td>\n",
       "      <td>94.244521</td>\n",
       "      <td>46.660274</td>\n",
       "      <td>21.954110</td>\n",
       "      <td>3.409589</td>\n",
       "      <td>15.060959</td>\n",
       "      <td>2.758904</td>\n",
       "      <td>43.489041</td>\n",
       "      <td>6.321918</td>\n",
       "      <td>2007.815753</td>\n",
       "    </tr>\n",
       "    <tr>\n",
       "      <th>std</th>\n",
       "      <td>421.610009</td>\n",
       "      <td>42.300571</td>\n",
       "      <td>24.284752</td>\n",
       "      <td>9981.264932</td>\n",
       "      <td>1.382997</td>\n",
       "      <td>1.112799</td>\n",
       "      <td>30.202904</td>\n",
       "      <td>20.645407</td>\n",
       "      <td>181.066207</td>\n",
       "      <td>456.098091</td>\n",
       "      <td>161.319273</td>\n",
       "      <td>441.866955</td>\n",
       "      <td>438.705324</td>\n",
       "      <td>386.587738</td>\n",
       "      <td>436.528436</td>\n",
       "      <td>48.623081</td>\n",
       "      <td>525.480383</td>\n",
       "      <td>0.518911</td>\n",
       "      <td>0.238753</td>\n",
       "      <td>0.550916</td>\n",
       "      <td>0.502885</td>\n",
       "      <td>0.815778</td>\n",
       "      <td>0.220338</td>\n",
       "      <td>1.625393</td>\n",
       "      <td>0.644666</td>\n",
       "      <td>24.689725</td>\n",
       "      <td>0.747315</td>\n",
       "      <td>213.804841</td>\n",
       "      <td>125.338794</td>\n",
       "      <td>66.256028</td>\n",
       "      <td>61.119149</td>\n",
       "      <td>29.317331</td>\n",
       "      <td>55.757415</td>\n",
       "      <td>40.177307</td>\n",
       "      <td>496.123024</td>\n",
       "      <td>2.703626</td>\n",
       "      <td>1.328095</td>\n",
       "    </tr>\n",
       "    <tr>\n",
       "      <th>min</th>\n",
       "      <td>1.000000</td>\n",
       "      <td>20.000000</td>\n",
       "      <td>21.000000</td>\n",
       "      <td>1300.000000</td>\n",
       "      <td>1.000000</td>\n",
       "      <td>1.000000</td>\n",
       "      <td>1872.000000</td>\n",
       "      <td>1950.000000</td>\n",
       "      <td>0.000000</td>\n",
       "      <td>0.000000</td>\n",
       "      <td>0.000000</td>\n",
       "      <td>0.000000</td>\n",
       "      <td>0.000000</td>\n",
       "      <td>334.000000</td>\n",
       "      <td>0.000000</td>\n",
       "      <td>0.000000</td>\n",
       "      <td>334.000000</td>\n",
       "      <td>0.000000</td>\n",
       "      <td>0.000000</td>\n",
       "      <td>0.000000</td>\n",
       "      <td>0.000000</td>\n",
       "      <td>0.000000</td>\n",
       "      <td>0.000000</td>\n",
       "      <td>2.000000</td>\n",
       "      <td>0.000000</td>\n",
       "      <td>1900.000000</td>\n",
       "      <td>0.000000</td>\n",
       "      <td>0.000000</td>\n",
       "      <td>0.000000</td>\n",
       "      <td>0.000000</td>\n",
       "      <td>0.000000</td>\n",
       "      <td>0.000000</td>\n",
       "      <td>0.000000</td>\n",
       "      <td>0.000000</td>\n",
       "      <td>0.000000</td>\n",
       "      <td>1.000000</td>\n",
       "      <td>2006.000000</td>\n",
       "    </tr>\n",
       "    <tr>\n",
       "      <th>25%</th>\n",
       "      <td>365.750000</td>\n",
       "      <td>20.000000</td>\n",
       "      <td>59.000000</td>\n",
       "      <td>7553.500000</td>\n",
       "      <td>5.000000</td>\n",
       "      <td>5.000000</td>\n",
       "      <td>1954.000000</td>\n",
       "      <td>1967.000000</td>\n",
       "      <td>0.000000</td>\n",
       "      <td>0.000000</td>\n",
       "      <td>0.000000</td>\n",
       "      <td>223.000000</td>\n",
       "      <td>795.750000</td>\n",
       "      <td>882.000000</td>\n",
       "      <td>0.000000</td>\n",
       "      <td>0.000000</td>\n",
       "      <td>1129.500000</td>\n",
       "      <td>0.000000</td>\n",
       "      <td>0.000000</td>\n",
       "      <td>1.000000</td>\n",
       "      <td>0.000000</td>\n",
       "      <td>2.000000</td>\n",
       "      <td>1.000000</td>\n",
       "      <td>5.000000</td>\n",
       "      <td>0.000000</td>\n",
       "      <td>1961.000000</td>\n",
       "      <td>1.000000</td>\n",
       "      <td>334.500000</td>\n",
       "      <td>0.000000</td>\n",
       "      <td>0.000000</td>\n",
       "      <td>0.000000</td>\n",
       "      <td>0.000000</td>\n",
       "      <td>0.000000</td>\n",
       "      <td>0.000000</td>\n",
       "      <td>0.000000</td>\n",
       "      <td>5.000000</td>\n",
       "      <td>2007.000000</td>\n",
       "    </tr>\n",
       "    <tr>\n",
       "      <th>50%</th>\n",
       "      <td>730.500000</td>\n",
       "      <td>50.000000</td>\n",
       "      <td>69.000000</td>\n",
       "      <td>9478.500000</td>\n",
       "      <td>6.000000</td>\n",
       "      <td>5.000000</td>\n",
       "      <td>1973.000000</td>\n",
       "      <td>1994.000000</td>\n",
       "      <td>0.000000</td>\n",
       "      <td>383.500000</td>\n",
       "      <td>0.000000</td>\n",
       "      <td>477.500000</td>\n",
       "      <td>991.500000</td>\n",
       "      <td>1087.000000</td>\n",
       "      <td>0.000000</td>\n",
       "      <td>0.000000</td>\n",
       "      <td>1464.000000</td>\n",
       "      <td>0.000000</td>\n",
       "      <td>0.000000</td>\n",
       "      <td>2.000000</td>\n",
       "      <td>0.000000</td>\n",
       "      <td>3.000000</td>\n",
       "      <td>1.000000</td>\n",
       "      <td>6.000000</td>\n",
       "      <td>1.000000</td>\n",
       "      <td>1980.000000</td>\n",
       "      <td>2.000000</td>\n",
       "      <td>480.000000</td>\n",
       "      <td>0.000000</td>\n",
       "      <td>25.000000</td>\n",
       "      <td>0.000000</td>\n",
       "      <td>0.000000</td>\n",
       "      <td>0.000000</td>\n",
       "      <td>0.000000</td>\n",
       "      <td>0.000000</td>\n",
       "      <td>6.000000</td>\n",
       "      <td>2008.000000</td>\n",
       "    </tr>\n",
       "    <tr>\n",
       "      <th>75%</th>\n",
       "      <td>1095.250000</td>\n",
       "      <td>70.000000</td>\n",
       "      <td>80.000000</td>\n",
       "      <td>11601.500000</td>\n",
       "      <td>7.000000</td>\n",
       "      <td>6.000000</td>\n",
       "      <td>2000.000000</td>\n",
       "      <td>2004.000000</td>\n",
       "      <td>166.000000</td>\n",
       "      <td>712.250000</td>\n",
       "      <td>0.000000</td>\n",
       "      <td>808.000000</td>\n",
       "      <td>1298.250000</td>\n",
       "      <td>1391.250000</td>\n",
       "      <td>728.000000</td>\n",
       "      <td>0.000000</td>\n",
       "      <td>1776.750000</td>\n",
       "      <td>1.000000</td>\n",
       "      <td>0.000000</td>\n",
       "      <td>2.000000</td>\n",
       "      <td>1.000000</td>\n",
       "      <td>3.000000</td>\n",
       "      <td>1.000000</td>\n",
       "      <td>7.000000</td>\n",
       "      <td>1.000000</td>\n",
       "      <td>2002.000000</td>\n",
       "      <td>2.000000</td>\n",
       "      <td>576.000000</td>\n",
       "      <td>168.000000</td>\n",
       "      <td>68.000000</td>\n",
       "      <td>0.000000</td>\n",
       "      <td>0.000000</td>\n",
       "      <td>0.000000</td>\n",
       "      <td>0.000000</td>\n",
       "      <td>0.000000</td>\n",
       "      <td>8.000000</td>\n",
       "      <td>2009.000000</td>\n",
       "    </tr>\n",
       "    <tr>\n",
       "      <th>max</th>\n",
       "      <td>1460.000000</td>\n",
       "      <td>190.000000</td>\n",
       "      <td>313.000000</td>\n",
       "      <td>215245.000000</td>\n",
       "      <td>10.000000</td>\n",
       "      <td>9.000000</td>\n",
       "      <td>2010.000000</td>\n",
       "      <td>2010.000000</td>\n",
       "      <td>1600.000000</td>\n",
       "      <td>5644.000000</td>\n",
       "      <td>1474.000000</td>\n",
       "      <td>2336.000000</td>\n",
       "      <td>6110.000000</td>\n",
       "      <td>4692.000000</td>\n",
       "      <td>2065.000000</td>\n",
       "      <td>572.000000</td>\n",
       "      <td>5642.000000</td>\n",
       "      <td>3.000000</td>\n",
       "      <td>2.000000</td>\n",
       "      <td>3.000000</td>\n",
       "      <td>2.000000</td>\n",
       "      <td>8.000000</td>\n",
       "      <td>3.000000</td>\n",
       "      <td>14.000000</td>\n",
       "      <td>3.000000</td>\n",
       "      <td>2010.000000</td>\n",
       "      <td>4.000000</td>\n",
       "      <td>1418.000000</td>\n",
       "      <td>857.000000</td>\n",
       "      <td>547.000000</td>\n",
       "      <td>552.000000</td>\n",
       "      <td>508.000000</td>\n",
       "      <td>480.000000</td>\n",
       "      <td>738.000000</td>\n",
       "      <td>15500.000000</td>\n",
       "      <td>12.000000</td>\n",
       "      <td>2010.000000</td>\n",
       "    </tr>\n",
       "  </tbody>\n",
       "</table>\n",
       "</div>"
      ],
      "text/plain": [
       "                Id   MSSubClass  LotFrontage        LotArea  OverallQual  \\\n",
       "count  1460.000000  1460.000000  1201.000000    1460.000000  1460.000000   \n",
       "mean    730.500000    56.897260    70.049958   10516.828082     6.099315   \n",
       "std     421.610009    42.300571    24.284752    9981.264932     1.382997   \n",
       "min       1.000000    20.000000    21.000000    1300.000000     1.000000   \n",
       "25%     365.750000    20.000000    59.000000    7553.500000     5.000000   \n",
       "50%     730.500000    50.000000    69.000000    9478.500000     6.000000   \n",
       "75%    1095.250000    70.000000    80.000000   11601.500000     7.000000   \n",
       "max    1460.000000   190.000000   313.000000  215245.000000    10.000000   \n",
       "\n",
       "       OverallCond    YearBuilt  YearRemodAdd   MasVnrArea   BsmtFinSF1  \\\n",
       "count  1460.000000  1460.000000   1460.000000  1452.000000  1460.000000   \n",
       "mean      5.575342  1971.267808   1984.865753   103.685262   443.639726   \n",
       "std       1.112799    30.202904     20.645407   181.066207   456.098091   \n",
       "min       1.000000  1872.000000   1950.000000     0.000000     0.000000   \n",
       "25%       5.000000  1954.000000   1967.000000     0.000000     0.000000   \n",
       "50%       5.000000  1973.000000   1994.000000     0.000000   383.500000   \n",
       "75%       6.000000  2000.000000   2004.000000   166.000000   712.250000   \n",
       "max       9.000000  2010.000000   2010.000000  1600.000000  5644.000000   \n",
       "\n",
       "        BsmtFinSF2    BsmtUnfSF  TotalBsmtSF     1stFlrSF     2ndFlrSF  \\\n",
       "count  1460.000000  1460.000000  1460.000000  1460.000000  1460.000000   \n",
       "mean     46.549315   567.240411  1057.429452  1162.626712   346.992466   \n",
       "std     161.319273   441.866955   438.705324   386.587738   436.528436   \n",
       "min       0.000000     0.000000     0.000000   334.000000     0.000000   \n",
       "25%       0.000000   223.000000   795.750000   882.000000     0.000000   \n",
       "50%       0.000000   477.500000   991.500000  1087.000000     0.000000   \n",
       "75%       0.000000   808.000000  1298.250000  1391.250000   728.000000   \n",
       "max    1474.000000  2336.000000  6110.000000  4692.000000  2065.000000   \n",
       "\n",
       "       LowQualFinSF    GrLivArea  BsmtFullBath  BsmtHalfBath     FullBath  \\\n",
       "count   1460.000000  1460.000000   1460.000000   1460.000000  1460.000000   \n",
       "mean       5.844521  1515.463699      0.425342      0.057534     1.565068   \n",
       "std       48.623081   525.480383      0.518911      0.238753     0.550916   \n",
       "min        0.000000   334.000000      0.000000      0.000000     0.000000   \n",
       "25%        0.000000  1129.500000      0.000000      0.000000     1.000000   \n",
       "50%        0.000000  1464.000000      0.000000      0.000000     2.000000   \n",
       "75%        0.000000  1776.750000      1.000000      0.000000     2.000000   \n",
       "max      572.000000  5642.000000      3.000000      2.000000     3.000000   \n",
       "\n",
       "          HalfBath  BedroomAbvGr  KitchenAbvGr  TotRmsAbvGrd   Fireplaces  \\\n",
       "count  1460.000000   1460.000000   1460.000000   1460.000000  1460.000000   \n",
       "mean      0.382877      2.866438      1.046575      6.517808     0.613014   \n",
       "std       0.502885      0.815778      0.220338      1.625393     0.644666   \n",
       "min       0.000000      0.000000      0.000000      2.000000     0.000000   \n",
       "25%       0.000000      2.000000      1.000000      5.000000     0.000000   \n",
       "50%       0.000000      3.000000      1.000000      6.000000     1.000000   \n",
       "75%       1.000000      3.000000      1.000000      7.000000     1.000000   \n",
       "max       2.000000      8.000000      3.000000     14.000000     3.000000   \n",
       "\n",
       "       GarageYrBlt   GarageCars   GarageArea   WoodDeckSF  OpenPorchSF  \\\n",
       "count  1379.000000  1460.000000  1460.000000  1460.000000  1460.000000   \n",
       "mean   1978.506164     1.767123   472.980137    94.244521    46.660274   \n",
       "std      24.689725     0.747315   213.804841   125.338794    66.256028   \n",
       "min    1900.000000     0.000000     0.000000     0.000000     0.000000   \n",
       "25%    1961.000000     1.000000   334.500000     0.000000     0.000000   \n",
       "50%    1980.000000     2.000000   480.000000     0.000000    25.000000   \n",
       "75%    2002.000000     2.000000   576.000000   168.000000    68.000000   \n",
       "max    2010.000000     4.000000  1418.000000   857.000000   547.000000   \n",
       "\n",
       "       EnclosedPorch    3SsnPorch  ScreenPorch     PoolArea       MiscVal  \\\n",
       "count    1460.000000  1460.000000  1460.000000  1460.000000   1460.000000   \n",
       "mean       21.954110     3.409589    15.060959     2.758904     43.489041   \n",
       "std        61.119149    29.317331    55.757415    40.177307    496.123024   \n",
       "min         0.000000     0.000000     0.000000     0.000000      0.000000   \n",
       "25%         0.000000     0.000000     0.000000     0.000000      0.000000   \n",
       "50%         0.000000     0.000000     0.000000     0.000000      0.000000   \n",
       "75%         0.000000     0.000000     0.000000     0.000000      0.000000   \n",
       "max       552.000000   508.000000   480.000000   738.000000  15500.000000   \n",
       "\n",
       "            MoSold       YrSold  \n",
       "count  1460.000000  1460.000000  \n",
       "mean      6.321918  2007.815753  \n",
       "std       2.703626     1.328095  \n",
       "min       1.000000  2006.000000  \n",
       "25%       5.000000  2007.000000  \n",
       "50%       6.000000  2008.000000  \n",
       "75%       8.000000  2009.000000  \n",
       "max      12.000000  2010.000000  "
      ]
     },
     "execution_count": 12,
     "metadata": {},
     "output_type": "execute_result"
    }
   ],
   "source": [
    "df_train_exp.describe() # let's have a look at variable types in our dataframe"
   ]
  },
  {
   "cell_type": "code",
   "execution_count": 13,
   "metadata": {
    "ExecuteTime": {
     "end_time": "2019-07-03T08:17:40.283801Z",
     "start_time": "2019-07-03T08:17:33.775774Z"
    },
    "_cell_guid": "031d457c-fa9a-4149-9896-ad3d842fa37b",
    "_uuid": "843ef00cc4f56694e3ed81d54854998c7520bfc2"
   },
   "outputs": [
    {
     "data": {
      "image/png": "[encoded data removed]",
      "text/plain": [
       "<Figure size 1296x1296 with 42 Axes>"
      ]
     },
     "metadata": {
      "needs_background": "light"
     },
     "output_type": "display_data"
    }
   ],
   "source": [
    "df_train_exp.hist(figsize=(18,18))\n",
    "plt.show()"
   ]
  },
  {
   "cell_type": "code",
   "execution_count": 14,
   "metadata": {},
   "outputs": [
    {
     "name": "stdout",
     "output_type": "stream",
     "text": [
      "False\n"
     ]
    }
   ],
   "source": [
    "# Testing for normal distribution hypothesis in numerical features\n",
    "test_normality = lambda x: stats.shapiro(x.fillna(0))[1] < 0.01\n",
    "numerical_features = [f for f in df_train_exp.columns if df_train_exp.dtypes[f] != 'object']\n",
    "normal = pd.DataFrame(df_train_exp[numerical_features])\n",
    "normal = normal.apply(test_normality)\n",
    "print(not normal.any())"
   ]
  },
  {
   "cell_type": "markdown",
   "metadata": {},
   "source": [
    "**A few observations can be made based on the EDA so far**:\n",
    "- The trainig dataset has 19 features (out 80) with missing values\n",
    "- Numerical features histograms' clearly show that some features are tail-heavy; indeed several distributions are right- or left-skewed (e.g. OpenPorchSF, 2ndFlrSF). Data transformation methods may be required to approach a normal distribution prior to fitting a model to the data.\n",
    "- Feature \"Id\" is likely to be a unique identifier for the homes recorded given the feature's quasi-uniform distribution, and should be removed in pre-processing."
   ]
  },
  {
   "cell_type": "markdown",
   "metadata": {
    "_cell_guid": "17361c78-8aa3-4bb9-840f-584b6522a701",
    "_uuid": "70abb7ba2a687e04db7383345b6f42f9660c8cd1"
   },
   "source": [
    "### 3.2 Correlation Map"
   ]
  },
  {
   "cell_type": "markdown",
   "metadata": {},
   "source": [
    "> Let's take a look at a correltion map. I'll then focus on the top most strongly correlated features with the target feature. Note: when the variables are not normally distributed or the relationship between the variables is not linear (as is the case here), it is more appropriate to use the **Spearman rank correlation method** rather than the default Pearson's method."
   ]
  },
  {
   "cell_type": "code",
   "execution_count": 15,
   "metadata": {
    "ExecuteTime": {
     "end_time": "2019-07-03T08:17:41.917049Z",
     "start_time": "2019-07-03T08:17:40.291742Z"
    }
   },
   "outputs": [
    {
     "data": {
      "image/png": "[encoded data removed]",
      "text/plain": [
       "<Figure size 1080x720 with 2 Axes>"
      ]
     },
     "metadata": {
      "needs_background": "light"
     },
     "output_type": "display_data"
    }
   ],
   "source": [
    "# Calculate correlations\n",
    "corr = training.corr(method='spearman')\n",
    "mask = np.zeros_like(corr)\n",
    "mask[np.triu_indices_from(mask)] = True\n",
    "# Heatmap\n",
    "plt.figure(figsize=(15, 10))\n",
    "sns.heatmap(corr,\n",
    "            vmax=.5,\n",
    "            mask=mask,\n",
    "            #annot=True, \n",
    "            fmt='.2f',\n",
    "            linewidths=.2, cmap=\"YlGnBu\");"
   ]
  },
  {
   "cell_type": "markdown",
   "metadata": {
    "_cell_guid": "cc753248-1280-4df5-87dd-070765e8c9ac",
    "_uuid": "b42d74e6f2c01674a68d58b0bec943a5ab98432f"
   },
   "source": [
    "> Focusing solely on the **'SalePrice' feature** (bottom row), we can see **strong correlations with various variables** including OverallQual, GrLivArea, and GarageCars - all three of these intuitively make sense that they would strongly affect a home's price. However, let's not forget that Pearson's **correlation factor only picks up linear relationships**, more complex relationships surely exist between other features and the target feature."
   ]
  },
  {
   "cell_type": "code",
   "execution_count": 16,
   "metadata": {
    "ExecuteTime": {
     "end_time": "2019-07-03T08:17:42.064833Z",
     "start_time": "2019-07-03T08:17:41.922903Z"
    }
   },
   "outputs": [
    {
     "name": "stdout",
     "output_type": "stream",
     "text": [
      "\n",
      "Top 10 correlations (absolute):\n",
      " SalePrice       1.000000\n",
      "OverallQual     0.809829\n",
      "GrLivArea       0.731310\n",
      "GarageCars      0.690711\n",
      "YearBuilt       0.652682\n",
      "GarageArea      0.649379\n",
      "FullBath        0.635957\n",
      "TotalBsmtSF     0.602725\n",
      "GarageYrBlt     0.593788\n",
      "1stFlrSF        0.575408\n",
      "YearRemodAdd    0.571159\n",
      "Name: SalePrice, dtype: float64\n"
     ]
    }
   ],
   "source": [
    "# Find correlations with the target and sort\n",
    "correlations = training.corr(method='spearman')['SalePrice'].sort_values(ascending=False)\n",
    "correlations_abs = correlations.abs()\n",
    "print('\\nTop 10 correlations (absolute):\\n', correlations_abs.head(11))"
   ]
  },
  {
   "cell_type": "markdown",
   "metadata": {
    "_cell_guid": "0ffec656-30ba-41b3-ab15-cf75baa30a93",
    "_uuid": "bf7f64711dc09a6ffb9e6eef41277ebe9b8be217"
   },
   "source": [
    "---\n",
    "<a class=\"anchor\" id=\"third-bullet\"></a>\n",
    "### 3.3 Target Feature: SalePrice"
   ]
  },
  {
   "cell_type": "markdown",
   "metadata": {
    "_cell_guid": "183d0f42-c0ec-4a75-b684-a2279fe03cf0",
    "_uuid": "69471209cfb49b3b889bb5d80dc2f58b616a554f"
   },
   "source": [
    "> Let's spent some time getting to know our target variable 'SalePrice'."
   ]
  },
  {
   "cell_type": "code",
   "execution_count": 17,
   "metadata": {
    "ExecuteTime": {
     "end_time": "2019-07-03T08:17:42.130352Z",
     "start_time": "2019-07-03T08:17:42.072636Z"
    }
   },
   "outputs": [],
   "source": [
    "target_exp = target.copy() #make copy for exploratory purposes"
   ]
  },
  {
   "cell_type": "code",
   "execution_count": 18,
   "metadata": {
    "ExecuteTime": {
     "end_time": "2019-07-03T08:17:42.179309Z",
     "start_time": "2019-07-03T08:17:42.132842Z"
    },
    "_cell_guid": "3b389b29-1e8d-42b4-8b23-7735aa6764fa",
    "_uuid": "aae5572a80d87c84d0fd1f0eb1b36fc3a9232b8d"
   },
   "outputs": [
    {
     "name": "stdout",
     "output_type": "stream",
     "text": [
      "There are 0 NA values in 'SalePrice'\n"
     ]
    }
   ],
   "source": [
    "# let's see if there are any missing values (i.e. NA)\n",
    "print(\"There are {} NA values in 'SalePrice'\".format(target_exp.isnull().values.sum()))"
   ]
  },
  {
   "cell_type": "code",
   "execution_count": 19,
   "metadata": {},
   "outputs": [
    {
     "name": "stdout",
     "output_type": "stream",
     "text": [
      "Skewness: 1.882876\n",
      "Normal dist. ($\\mu=$ 180921.20 and $\\sigma=$ 79415.29 )\n"
     ]
    },
    {
     "data": {
      "image/png": "[encoded data removed]",
      "text/plain": [
       "<Figure size 432x288 with 1 Axes>"
      ]
     },
     "metadata": {
      "needs_background": "light"
     },
     "output_type": "display_data"
    }
   ],
   "source": [
    "y = target_exp\n",
    "plt.figure(1); plt.title('Log Normal')\n",
    "sns.distplot(y, kde=False, fit=stats.lognorm)\n",
    "plt.ylabel('Frequency')\n",
    "print(\"Skewness: %f\" % target_exp.skew())\n",
    "# get mean and standard deviation\n",
    "(mu, sigma) = norm.fit(target_exp)\n",
    "print('Normal dist. ($\\mu=$ {:.2f} and $\\sigma=$ {:.2f} )'.format(mu, sigma))"
   ]
  },
  {
   "cell_type": "code",
   "execution_count": 20,
   "metadata": {
    "ExecuteTime": {
     "end_time": "2019-07-03T08:17:43.071844Z",
     "start_time": "2019-07-03T08:17:43.031415Z"
    },
    "_cell_guid": "c5d9a1f3-1396-42e3-9308-08ce38faf885",
    "_uuid": "e1756ac01fe45a1bfac9212b6d1e21785ad250ad"
   },
   "outputs": [
    {
     "name": "stdout",
     "output_type": "stream",
     "text": [
      "Statistics for the supplied house prices training dataset:\n",
      "\n",
      "Minimum price: $34,900.00\n",
      "Maximum price: $755,000.00\n",
      "Mean price: $180,921.20\n",
      "Median price $163,000.00\n",
      "Standard deviation of prices: $79,415.29\n"
     ]
    }
   ],
   "source": [
    "# let's get some stats on the 'SalePrice' variable\n",
    "print(\"Statistics for the supplied house prices training dataset:\\n\")\n",
    "print(\"Minimum price: ${:,.2f}\".format(np.min(target_exp)))\n",
    "print(\"Maximum price: ${:,.2f}\".format(np.max(target_exp)))\n",
    "print(\"Mean price: ${:,.2f}\".format(np.mean(target_exp)))\n",
    "print(\"Median price ${:,.2f}\".format(np.median(target_exp)))\n",
    "print(\"Standard deviation of prices: ${:,.2f}\".format(np.std(target_exp)))"
   ]
  },
  {
   "cell_type": "code",
   "execution_count": 21,
   "metadata": {
    "ExecuteTime": {
     "end_time": "2019-07-03T08:17:43.390373Z",
     "start_time": "2019-07-03T08:17:43.077172Z"
    },
    "_cell_guid": "9e716614-b112-4081-9dc3-47b9be5e60bc",
    "_uuid": "e63266ca20444876a52bee97d668d2db3edd6ec8",
    "scrolled": true
   },
   "outputs": [
    {
     "name": "stdout",
     "output_type": "stream",
     "text": [
      "IQR value: 84025.0\n",
      "# of outliers: 61\n"
     ]
    },
    {
     "data": {
      "image/png": "[encoded data removed]",
      "text/plain": [
       "<Figure size 432x288 with 1 Axes>"
      ]
     },
     "metadata": {
      "needs_background": "light"
     },
     "output_type": "display_data"
    }
   ],
   "source": [
    "#  To get a visual of the outliers, let's plot a box plot.\n",
    "sns.boxplot(y = target)\n",
    "plt.ylabel('SalePrice (Log)')\n",
    "plt.title('Price');\n",
    "\n",
    "# count number of outliers after transformation is applied\n",
    "Q1 = target.quantile(0.25)\n",
    "Q3 = target.quantile(0.75)\n",
    "IQR = Q3 - Q1\n",
    "print(\"IQR value: {}\\n# of outliers: {}\".format(\n",
    "    IQR,\n",
    "    ((target < (Q1 - 1.5 * IQR)) | (target > (Q3 + 1.5 * IQR))).sum()))"
   ]
  },
  {
   "cell_type": "markdown",
   "metadata": {
    "_cell_guid": "ef658226-b93d-4d7d-9e44-d4b6004d9d30",
    "_uuid": "ecdcc9648c3d085ecd728596e7f35233312475be"
   },
   "source": [
    "**Remarks:**\n",
    "> As we can see on the plot, the distribution of 'SalePrice' is right-skewed which is reflected in the skewness factor which is positive. We would like to get the **skewness factor as close to zero as possible** (i.e. a normal or Gaussian distribution).\n",
    "\n",
    "> This can accomplished by either removing outliers or **transforming the variable**. Removing outliers may be tricky as expertise in real estate is needed to assess whether whether outliers should be removed or not. Applying transformations is typically a safer option if it can deliver the desired outcome. In the case of positive skewness, **log transformation** does the trick."
   ]
  },
  {
   "cell_type": "markdown",
   "metadata": {
    "_cell_guid": "f118b461-cb68-4b09-921a-d75e6ac1cfdd",
    "_uuid": "af855a3d3d1c3a81c120e84bf83421501f4a64b2"
   },
   "source": [
    "---\n",
    "<a class=\"anchor\" id=\"fourth-bullet\"></a>\n",
    "## 4. Data Preparation"
   ]
  },
  {
   "cell_type": "markdown",
   "metadata": {},
   "source": [
    "This step is often referred to as **data wrangling** which includes implementing **data architectures for storage and processing**, developing data **governance standards** for quality and control, **data extraction** (i.e. ETL and web scraping), and **data cleaning** to identify aberrant, missing, or outlier data points."
   ]
  },
  {
   "cell_type": "markdown",
   "metadata": {},
   "source": [
    "In this stage, we will clean our data by:<br> \n",
    "1. Data Cleaning: Outliers and Missing Values, <br>\n",
    "2. Feature Selection, <br>\n",
    "3. Feature Engineering, <br>\n",
    "4. Label Encoding and Feature Scaling"
   ]
  },
  {
   "cell_type": "markdown",
   "metadata": {
    "_cell_guid": "cf7d5c6b-c081-47d0-b32f-3fd6f4360ec6",
    "_uuid": "02efcf350bd8a75e58702a41c7c21bb16033ce37"
   },
   "source": [
    "### 4.1 Log Transformation: Target Feature"
   ]
  },
  {
   "cell_type": "code",
   "execution_count": 22,
   "metadata": {
    "ExecuteTime": {
     "end_time": "2019-07-03T08:17:44.007890Z",
     "start_time": "2019-07-03T08:17:43.393363Z"
    },
    "_cell_guid": "d4e65116-3b65-4834-8273-910995316f5e",
    "_uuid": "58feae41f0c05a2c278a4a47c4158256baa44269"
   },
   "outputs": [
    {
     "name": "stdout",
     "output_type": "stream",
     "text": [
      "Skewness: 0.121347\n"
     ]
    },
    {
     "data": {
      "image/png": "[encoded data removed]",
      "text/plain": [
       "<Figure size 432x288 with 1 Axes>"
      ]
     },
     "metadata": {
      "needs_background": "light"
     },
     "output_type": "display_data"
    }
   ],
   "source": [
    "#applying log transformation to the Target Variable\n",
    "target_tr = np.log1p(target)\n",
    "\n",
    "# let's plot a histogram with the fitted parameters used by the function\n",
    "sns.distplot(target_tr , fit=norm);\n",
    "(mu, sigma) = norm.fit(target_tr)\n",
    "plt.legend(['Normal dist. ($\\mu=$ {:.2f} and $\\sigma=$ {:.2f} )'.format(mu, sigma)],\n",
    "            loc='best')\n",
    "plt.title('Price (Log)');\n",
    "print(\"Skewness: %f\" % target_tr.skew())"
   ]
  },
  {
   "cell_type": "code",
   "execution_count": 23,
   "metadata": {
    "ExecuteTime": {
     "end_time": "2019-07-03T08:17:44.299235Z",
     "start_time": "2019-07-03T08:17:44.015410Z"
    }
   },
   "outputs": [
    {
     "name": "stdout",
     "output_type": "stream",
     "text": [
      "IQR value: 0.49863092538878107\n",
      "# of outliers: 28\n"
     ]
    },
    {
     "data": {
      "image/png": "[encoded data removed]",
      "text/plain": [
       "<Figure size 432x288 with 1 Axes>"
      ]
     },
     "metadata": {
      "needs_background": "light"
     },
     "output_type": "display_data"
    }
   ],
   "source": [
    "#  To get a visual of the outliers, let's plot a box plot.\n",
    "sns.boxplot(y = target_tr)\n",
    "plt.ylabel('SalePrice (Log)')\n",
    "plt.title('Price');\n",
    "\n",
    "# count number of outliers after transformation is applied\n",
    "Q1 = target_tr.quantile(0.25)\n",
    "Q3 = target_tr.quantile(0.75)\n",
    "IQR = Q3 - Q1\n",
    "print(\"IQR value: {}\\n# of outliers: {}\".format(\n",
    "    IQR,\n",
    "    ((target_tr < (Q1 - 1.5 * IQR)) | (target_tr > (Q3 + 1.5 * IQR))).sum()))"
   ]
  },
  {
   "cell_type": "markdown",
   "metadata": {
    "_cell_guid": "c02916f2-b5a3-46a2-ae93-9856de0cc462",
    "_uuid": "db5a836229e7bc31a23158b77caca84033abe53b"
   },
   "source": [
    "> As we can see above, applying a log-transformation has significantly taken our distribution closer to a normal distribution. The skewness measure is also much closer to zero, with a valuoe of 0.121335."
   ]
  },
  {
   "cell_type": "markdown",
   "metadata": {
    "ExecuteTime": {
     "end_time": "2019-06-27T10:24:24.530099Z",
     "start_time": "2019-06-27T10:24:24.441643Z"
    }
   },
   "source": [
    "### 4.2 Missing Values"
   ]
  },
  {
   "cell_type": "markdown",
   "metadata": {
    "_cell_guid": "38b18e63-9e16-4daf-ae26-60d5a590367c",
    "_uuid": "3cc2c91b82564ef432354aec0509462569d7031f"
   },
   "source": [
    "Let's focus on our training dataset and see which variables have missing values."
   ]
  },
  {
   "cell_type": "code",
   "execution_count": 24,
   "metadata": {
    "ExecuteTime": {
     "end_time": "2019-07-03T08:17:44.376059Z",
     "start_time": "2019-07-03T08:17:44.306245Z"
    },
    "_cell_guid": "71e6fac4-3bb9-4617-93ae-02b4bc4aa5a4",
    "_uuid": "25c79114682fd7d07c8414a67bfe059e02fb5c89"
   },
   "outputs": [
    {
     "name": "stdout",
     "output_type": "stream",
     "text": [
      "(80, 1)\n"
     ]
    },
    {
     "data": {
      "text/html": [
       "<div>\n",
       "<style scoped>\n",
       "    .dataframe tbody tr th:only-of-type {\n",
       "        vertical-align: middle;\n",
       "    }\n",
       "\n",
       "    .dataframe tbody tr th {\n",
       "        vertical-align: top;\n",
       "    }\n",
       "\n",
       "    .dataframe thead th {\n",
       "        text-align: right;\n",
       "    }\n",
       "</style>\n",
       "<table border=\"1\" class=\"dataframe\">\n",
       "  <thead>\n",
       "    <tr style=\"text-align: right;\">\n",
       "      <th></th>\n",
       "      <th>Missing Values Ratio</th>\n",
       "    </tr>\n",
       "  </thead>\n",
       "  <tbody>\n",
       "    <tr>\n",
       "      <th>PoolQC</th>\n",
       "      <td>99.520548</td>\n",
       "    </tr>\n",
       "    <tr>\n",
       "      <th>MiscFeature</th>\n",
       "      <td>96.301370</td>\n",
       "    </tr>\n",
       "    <tr>\n",
       "      <th>Alley</th>\n",
       "      <td>93.767123</td>\n",
       "    </tr>\n",
       "    <tr>\n",
       "      <th>Fence</th>\n",
       "      <td>80.753425</td>\n",
       "    </tr>\n",
       "    <tr>\n",
       "      <th>FireplaceQu</th>\n",
       "      <td>47.260274</td>\n",
       "    </tr>\n",
       "    <tr>\n",
       "      <th>LotFrontage</th>\n",
       "      <td>17.739726</td>\n",
       "    </tr>\n",
       "    <tr>\n",
       "      <th>GarageCond</th>\n",
       "      <td>5.547945</td>\n",
       "    </tr>\n",
       "    <tr>\n",
       "      <th>GarageType</th>\n",
       "      <td>5.547945</td>\n",
       "    </tr>\n",
       "    <tr>\n",
       "      <th>GarageYrBlt</th>\n",
       "      <td>5.547945</td>\n",
       "    </tr>\n",
       "    <tr>\n",
       "      <th>GarageFinish</th>\n",
       "      <td>5.547945</td>\n",
       "    </tr>\n",
       "    <tr>\n",
       "      <th>GarageQual</th>\n",
       "      <td>5.547945</td>\n",
       "    </tr>\n",
       "    <tr>\n",
       "      <th>BsmtExposure</th>\n",
       "      <td>2.602740</td>\n",
       "    </tr>\n",
       "    <tr>\n",
       "      <th>BsmtFinType2</th>\n",
       "      <td>2.602740</td>\n",
       "    </tr>\n",
       "    <tr>\n",
       "      <th>BsmtCond</th>\n",
       "      <td>2.534247</td>\n",
       "    </tr>\n",
       "    <tr>\n",
       "      <th>BsmtQual</th>\n",
       "      <td>2.534247</td>\n",
       "    </tr>\n",
       "    <tr>\n",
       "      <th>BsmtFinType1</th>\n",
       "      <td>2.534247</td>\n",
       "    </tr>\n",
       "    <tr>\n",
       "      <th>MasVnrArea</th>\n",
       "      <td>0.547945</td>\n",
       "    </tr>\n",
       "    <tr>\n",
       "      <th>MasVnrType</th>\n",
       "      <td>0.547945</td>\n",
       "    </tr>\n",
       "    <tr>\n",
       "      <th>Electrical</th>\n",
       "      <td>0.068493</td>\n",
       "    </tr>\n",
       "    <tr>\n",
       "      <th>Utilities</th>\n",
       "      <td>0.000000</td>\n",
       "    </tr>\n",
       "  </tbody>\n",
       "</table>\n",
       "</div>"
      ],
      "text/plain": [
       "              Missing Values Ratio\n",
       "PoolQC                   99.520548\n",
       "MiscFeature              96.301370\n",
       "Alley                    93.767123\n",
       "Fence                    80.753425\n",
       "FireplaceQu              47.260274\n",
       "LotFrontage              17.739726\n",
       "GarageCond                5.547945\n",
       "GarageType                5.547945\n",
       "GarageYrBlt               5.547945\n",
       "GarageFinish              5.547945\n",
       "GarageQual                5.547945\n",
       "BsmtExposure              2.602740\n",
       "BsmtFinType2              2.602740\n",
       "BsmtCond                  2.534247\n",
       "BsmtQual                  2.534247\n",
       "BsmtFinType1              2.534247\n",
       "MasVnrArea                0.547945\n",
       "MasVnrType                0.547945\n",
       "Electrical                0.068493\n",
       "Utilities                 0.000000"
      ]
     },
     "execution_count": 24,
     "metadata": {},
     "output_type": "execute_result"
    }
   ],
   "source": [
    "perc_na = (df_train.isnull().sum()/len(df_train))*100\n",
    "ratio_na = perc_na.sort_values(ascending=False)\n",
    "missing_data = pd.DataFrame({'Missing Values Ratio' :ratio_na})\n",
    "print(missing_data.shape)\n",
    "missing_data.head(20)"
   ]
  },
  {
   "cell_type": "markdown",
   "metadata": {
    "_cell_guid": "9d3f5189-8ea2-4a80-8026-54059f0c2962",
    "_uuid": "40f1923fcfee871a252c9f1dec0baf689aa3d935"
   },
   "source": [
    "> According to the our analysis, the top variables with the most percentage of missing values (>15%) are:\n",
    "- PoolQC with 99.5%\n",
    "- MiscFeature with 96.30%\n",
    "- Alley\twith 93.77%\n",
    "- Fence\twith 80.75%\n",
    "- FireplaceQu with 47.26%\n",
    "- LotFrontage with 17.740%"
   ]
  },
  {
   "cell_type": "markdown",
   "metadata": {},
   "source": [
    "### 4.3 Pre-processing Pipeline"
   ]
  },
  {
   "cell_type": "code",
   "execution_count": 25,
   "metadata": {
    "ExecuteTime": {
     "end_time": "2019-07-03T08:17:44.950384Z",
     "start_time": "2019-07-03T08:17:44.698877Z"
    }
   },
   "outputs": [],
   "source": [
    "def house_pipeline_v1(dataframe,\n",
    "                      impute_method = \"median\",\n",
    "                      feature_transform = \"yes\",\n",
    "                      feature_scaling = \"RobustScaler\", \n",
    "                      feature_selection = \"yes\"):\n",
    "    # 0. initialising dataframe\n",
    "    df_pipe = dataframe.copy()\n",
    "    print(\"Dataframe loaded.\")\n",
    "    \n",
    "    # Drop redundant columns\n",
    "    df_pipe.drop(['Id'], axis=1, inplace=True) # drop Id column\n",
    "    print(\"Dropped redundant column 'Id'.\")\n",
    "\n",
    "    # column types variables\n",
    "    numeric_features = list(df_pipe.select_dtypes(\n",
    "        include=[np.number]).columns.values)\n",
    "    categ_features = list(df_pipe.select_dtypes(\n",
    "        include=['object']).columns.values)\n",
    "    for col in numeric_features:\n",
    "        df_pipe[col] = df_pipe[col].astype(float)\n",
    "\n",
    "    # 1. Handling missing values\n",
    "    # replacing NaNs in categorical features with \"None\"\n",
    "    df_pipe[categ_features] = df_pipe[categ_features].apply(\n",
    "        lambda x: x.fillna(\"None\"), axis=0)\n",
    "\n",
    "    # imputing numerical features\n",
    "    for col in (\"LotFrontage\", 'GarageYrBlt', 'GarageArea', 'GarageCars'):\n",
    "        df_pipe[col].fillna(0.0, inplace=True)\n",
    "        \n",
    "    if impute_method == \"median\": # replacing NaNs in numerical features with the median\n",
    "        df_pipe[numeric_features] = df_pipe[numeric_features].apply(\n",
    "            lambda x: x.fillna(x.median()), axis=0)\n",
    "        print(\"Missing values imputed with median.\")\n",
    "    \n",
    "    elif impute_method == \"mean\": # replacing NaNs in numerical features with the mean\n",
    "        df_pipe[numeric_features] = df_pipe[numeric_features].apply(\n",
    "            lambda x: x.fillna(x.mean()), axis=0)\n",
    "        print(\"Missing values imputed with mean.\")\n",
    "\n",
    "    # 2. Feature Engineering\n",
    "    # Examples: Discretize Continous Feature;\n",
    "    #           Decompose Features;\n",
    "    #           Add Combination of Feature\n",
    "    df_pipe['YrBltAndRemod']=df_pipe['YearBuilt']+df_pipe['YearRemodAdd']\n",
    "    df_pipe['TotalSF']=df_pipe['TotalBsmtSF'] + df_pipe['1stFlrSF'] + df_pipe['2ndFlrSF']\n",
    "\n",
    "    df_pipe['Total_sqr_footage'] = (df_pipe['BsmtFinSF1'] + df_pipe['BsmtFinSF2'] +\n",
    "                                     df_pipe['1stFlrSF'] + df_pipe['2ndFlrSF'])\n",
    "\n",
    "    df_pipe['Total_Bathrooms'] = (df_pipe['FullBath'] + (0.5 * df_pipe['HalfBath']) +\n",
    "                                   df_pipe['BsmtFullBath'] + (0.5 * df_pipe['BsmtHalfBath']))\n",
    "\n",
    "    df_pipe['Total_porch_sf'] = (df_pipe['OpenPorchSF'] + df_pipe['3SsnPorch'] +\n",
    "                                  df_pipe['EnclosedPorch'] + df_pipe['ScreenPorch'] + \n",
    "                                 df_pipe['WoodDeckSF'])\n",
    "    print(\"Feature enginering: added combination of features.\")\n",
    "    \n",
    "    df_pipe['haspool'] = df_pipe['PoolArea'].apply(lambda x: 1 if x > 0 else 0)\n",
    "    df_pipe['has2ndfloor'] = df_pipe['2ndFlrSF'].apply(lambda x: 1 if x > 0 else 0)\n",
    "    df_pipe['hasgarage'] = df_pipe['GarageArea'].apply(lambda x: 1 if x > 0 else 0)\n",
    "    df_pipe['hasbsmt'] = df_pipe['TotalBsmtSF'].apply(lambda x: 1 if x > 0 else 0)\n",
    "    df_pipe['hasfireplace'] = df_pipe['Fireplaces'].apply(lambda x: 1 if x > 0 else 0)\n",
    "    print(\"Feature enginering: added boolean features.\")\n",
    "    \n",
    "    # 3. Feature Transformations (log(x), sqrt(x), x^2, etc.)\n",
    "    # Transform numerical features that should be considered as strings \n",
    "    df_pipe['MSSubClass'] = df_pipe['MSSubClass'].apply(str)\n",
    "    df_pipe['YrSold'] = df_pipe['YrSold'].astype(str)\n",
    "    df_pipe['MoSold'] = df_pipe['MoSold'].astype(str)\n",
    "    df_pipe['YrBltAndRemod'] = df_pipe['YrBltAndRemod'].astype(str)\n",
    "    print(\"Transformed numerical features that should be considered as strings.\")\n",
    "    \n",
    "    numeric_features = list(df_pipe.select_dtypes(\n",
    "        include=[np.number]).columns.values)\n",
    "    categ_features = list(df_pipe.select_dtypes(\n",
    "        include=['object']).columns.values)\n",
    "    \n",
    "    if feature_transform == \"yes\":\n",
    "        # Transform all numerical columns with skewness factor > 0.5\n",
    "        skew_features = df_pipe[numeric_features].apply(lambda x: skew(x)).sort_values(ascending=False)\n",
    "        high_skew = skew_features[skew_features > 0.5]\n",
    "        skew_index = high_skew.index\n",
    "        for i in skew_index:\n",
    "            df_pipe[i] = boxcox1p(df_pipe[i], boxcox_normmax(df_pipe[i]+1))\n",
    "        print(\"Transformed numerical columns with high skewness factor.\")\n",
    "    elif feature_transform == \"no\":\n",
    "        pass\n",
    "\n",
    "    # 4. Label Encoding\n",
    "    df_pipe = pd.get_dummies(df_pipe)\n",
    "    print(\"Label Encoding: from {} cols to {} cols.\".format(\n",
    "        dataframe.shape[1], df_pipe.shape[1]))\n",
    "\n",
    "    # 5. Feature Scaling\n",
    "    #cols = df_pipe.select_dtypes([np.number]).columns\n",
    "    if feature_scaling == 'MinMaxScaler':\n",
    "        scaler = MinMaxScaler(feature_range=(0, 1))\n",
    "        for col in numeric_features:\n",
    "            df_pipe[[col]] = scaler.fit_transform(df_pipe[[col]])\n",
    "        print(\"Performed feature Scaling with MinMaxScaler.\")\n",
    "\n",
    "    elif feature_scaling == 'StandardScaler':\n",
    "        scaler = StandardScaler()\n",
    "        for col in numeric_features:\n",
    "            df_pipe[[col]] = scaler.fit_transform(df_pipe[[col]])\n",
    "        print(\"Performed feature Scaling with StandardScaler.\")\n",
    "\n",
    "    elif feature_scaling == \"RobustScaler\":\n",
    "        scaler = RobustScaler()\n",
    "        for col in numeric_features:\n",
    "            df_pipe[[col]] = scaler.fit_transform(df_pipe[[col]])\n",
    "        print(\"Performed feature Scaling with RobustScaler.\")\n",
    "    \n",
    "    # 6. Feature Selection\n",
    "    ## let's remove columns with little variance (to reduce overfitting)\n",
    "    overfit = []\n",
    "    for i in df_pipe.columns:\n",
    "        counts = df_pipe[i].value_counts()\n",
    "        zeros = counts.iloc[0]\n",
    "        if zeros / len(df_pipe) * 100 > 99.9: # the threshold is set at 99.9%\n",
    "            overfit.append(i)\n",
    "    overfit = list(overfit)\n",
    "    # let's make sure to keep data processing columns needed later on\n",
    "    try:\n",
    "        overfit.remove('Dataset_Train')\n",
    "        overfit.remove('Dataset_Test')\n",
    "    except:\n",
    "        pass\n",
    "    df_pipe.drop(overfit, axis=1, inplace=True)\n",
    "    print(\"To prevent overfitting, {} columns were removed.\".format(len(overfit)))\n",
    "    \n",
    "    ## Summary\n",
    "    print(\"Shape of transformed dataset: {} (original: {})\".format(df_pipe.shape, dataframe.shape))\n",
    "    return df_pipe"
   ]
  },
  {
   "cell_type": "code",
   "execution_count": 26,
   "metadata": {
    "ExecuteTime": {
     "end_time": "2019-07-03T08:17:44.987742Z",
     "start_time": "2019-07-03T08:17:44.956224Z"
    }
   },
   "outputs": [],
   "source": [
    "def target_transf(target, \n",
    "                  transform=\"log\"):\n",
    "    \n",
    "    if transform == \"log\":\n",
    "        target_tranf = np.log1p(target)\n",
    "        print(\"Target feature transformed with natural logarithm.\")\n",
    "    \n",
    "    elif transform == \"sqrt\":\n",
    "        target_tranf = np.sqrt(target)\n",
    "        print(\"Target feature transformed with sqrt.\")\n",
    "    \n",
    "    elif transform == \"square\":\n",
    "        target_tranf = np.square(target)\n",
    "        print(\"Target feature transformed with square.\")\n",
    "    \n",
    "    print(\"Shape of transformed target: {}\".format(target_tr.shape))\n",
    "    return target_tranf"
   ]
  },
  {
   "cell_type": "code",
   "execution_count": 27,
   "metadata": {
    "ExecuteTime": {
     "end_time": "2019-07-03T08:17:45.583275Z",
     "start_time": "2019-07-03T08:17:44.990457Z"
    }
   },
   "outputs": [
    {
     "name": "stdout",
     "output_type": "stream",
     "text": [
      "Dataframe loaded.\n",
      "Dropped redundant column 'Id'.\n",
      "Missing values imputed with median.\n",
      "Feature enginering: added combination of features.\n",
      "Feature enginering: added boolean features.\n",
      "Transformed numerical features that should be considered as strings.\n",
      "Transformed numerical columns with high skewness factor.\n",
      "Label Encoding: from 80 cols to 505 cols.\n",
      "Performed feature Scaling with RobustScaler.\n",
      "To prevent overfitting, 35 columns were removed.\n",
      "Shape of transformed dataset: (1460, 470) (original: (1460, 80))\n",
      "\n",
      "\n",
      "Target feature transformed with natural logarithm.\n",
      "Shape of transformed target: (1460,)\n"
     ]
    }
   ],
   "source": [
    "# Test pipeline\n",
    "df_train_test = house_pipeline_v1(df_train)\n",
    "print(\"\\n\")\n",
    "target_tr = target_transf(target)"
   ]
  },
  {
   "cell_type": "markdown",
   "metadata": {},
   "source": [
    "### 4.4 Pipeline Validation"
   ]
  },
  {
   "cell_type": "code",
   "execution_count": 28,
   "metadata": {
    "ExecuteTime": {
     "end_time": "2019-07-03T08:17:45.655855Z",
     "start_time": "2019-07-03T08:17:45.585686Z"
    }
   },
   "outputs": [
    {
     "data": {
      "text/html": [
       "<div>\n",
       "<style scoped>\n",
       "    .dataframe tbody tr th:only-of-type {\n",
       "        vertical-align: middle;\n",
       "    }\n",
       "\n",
       "    .dataframe tbody tr th {\n",
       "        vertical-align: top;\n",
       "    }\n",
       "\n",
       "    .dataframe thead th {\n",
       "        text-align: right;\n",
       "    }\n",
       "</style>\n",
       "<table border=\"1\" class=\"dataframe\">\n",
       "  <thead>\n",
       "    <tr style=\"text-align: right;\">\n",
       "      <th></th>\n",
       "      <th>missing_ratio</th>\n",
       "    </tr>\n",
       "  </thead>\n",
       "  <tbody>\n",
       "  </tbody>\n",
       "</table>\n",
       "</div>"
      ],
      "text/plain": [
       "Empty DataFrame\n",
       "Columns: [missing_ratio]\n",
       "Index: []"
      ]
     },
     "execution_count": 28,
     "metadata": {},
     "output_type": "execute_result"
    }
   ],
   "source": [
    "# let's check that we no longer have any missing values\n",
    "perc_na = (df_train_test.isnull().sum()/len(df_train_test))*100\n",
    "ratio_na = perc_na.sort_values(ascending=False)\n",
    "missing_data = pd.DataFrame({'missing_ratio' :ratio_na})\n",
    "missing_data = missing_data.drop(missing_data[missing_data.missing_ratio == 0].index)\n",
    "missing_data.head(5)"
   ]
  },
  {
   "cell_type": "code",
   "execution_count": 29,
   "metadata": {
    "ExecuteTime": {
     "end_time": "2019-07-03T08:17:46.187104Z",
     "start_time": "2019-07-03T08:17:45.660408Z"
    }
   },
   "outputs": [
    {
     "name": "stdout",
     "output_type": "stream",
     "text": [
      "Skewness: 0.121347\n"
     ]
    },
    {
     "data": {
      "image/png": "[encoded data removed]",
      "text/plain": [
       "<Figure size 432x288 with 1 Axes>"
      ]
     },
     "metadata": {
      "needs_background": "light"
     },
     "output_type": "display_data"
    }
   ],
   "source": [
    "# target feature transformed\n",
    "sns.distplot(target_tr , fit=norm);\n",
    "(mu, sigma) = norm.fit(target_tr)\n",
    "plt.legend(['Normal dist. ($\\mu=$ {:.2f} and $\\sigma=$ {:.2f} )'.format(mu, sigma)],\n",
    "            loc='best')\n",
    "plt.title('Price (Log)');\n",
    "print(\"Skewness: %f\" % target_tr.skew())"
   ]
  },
  {
   "cell_type": "code",
   "execution_count": 30,
   "metadata": {
    "ExecuteTime": {
     "end_time": "2019-07-03T08:17:52.758264Z",
     "start_time": "2019-07-03T08:17:46.192815Z"
    }
   },
   "outputs": [
    {
     "data": {
      "image/png": "[encoded data removed]",
      "text/plain": [
       "<Figure size 1296x1296 with 36 Axes>"
      ]
     },
     "metadata": {
      "needs_background": "light"
     },
     "output_type": "display_data"
    }
   ],
   "source": [
    "## Feature Scaling\n",
    "col_eda = list(correlations_abs.index)\n",
    "df_train_scal = df_train_test.filter(col_eda, axis=1).copy()\n",
    "df_train_scal.hist(figsize=(18,18))\n",
    "plt.show()"
   ]
  },
  {
   "cell_type": "markdown",
   "metadata": {
    "_cell_guid": "185672fe-f6d2-43a8-885a-322c5f9cdf16",
    "_uuid": "b08cb4ef1ddabdf3866ab630fbebc8f3667f89f6"
   },
   "source": [
    "----\n",
    "<a class=\"anchor\" id=\"fifth-bullet\"></a>\n",
    "## 5. Machine Learning Models"
   ]
  },
  {
   "cell_type": "markdown",
   "metadata": {},
   "source": [
    "### 5.1 Data Prep for ML"
   ]
  },
  {
   "cell_type": "code",
   "execution_count": 31,
   "metadata": {
    "ExecuteTime": {
     "end_time": "2019-07-03T08:17:52.896482Z",
     "start_time": "2019-07-03T08:17:52.760668Z"
    }
   },
   "outputs": [
    {
     "name": "stdout",
     "output_type": "stream",
     "text": [
      "Joined Dataframe shape: (2919, 81)\n"
     ]
    }
   ],
   "source": [
    "# Copy dataframes prior to data processing\n",
    "df_train_pipeline = df_train.copy()\n",
    "df_test_pipeline = df_test.copy()\n",
    "# Concat dataframes\n",
    "df_train_pipeline[\"Dataset\"] = \"Train\"\n",
    "df_test_pipeline[\"Dataset\"] = \"Test\"\n",
    "# Concat dataframes\n",
    "df_joined = pd.concat([df_train_pipeline, df_test_pipeline], \n",
    "                      sort=False)\n",
    "df_joined = df_joined.reset_index(drop=True) # reset index\n",
    "print(\"Joined Dataframe shape: {}\".format(df_joined.shape))"
   ]
  },
  {
   "cell_type": "code",
   "execution_count": 32,
   "metadata": {
    "ExecuteTime": {
     "end_time": "2019-07-03T08:17:53.538724Z",
     "start_time": "2019-07-03T08:17:52.903928Z"
    },
    "_cell_guid": "cc12dc00-ae7d-4a9e-a54b-14208e04af8d",
    "_uuid": "3e4379629f0d40f28c7744aa8a754e944642860c"
   },
   "outputs": [
    {
     "name": "stdout",
     "output_type": "stream",
     "text": [
      "Dataframe loaded.\n",
      "Dropped redundant column 'Id'.\n",
      "Missing values imputed with median.\n",
      "Feature enginering: added combination of features.\n",
      "Feature enginering: added boolean features.\n",
      "Transformed numerical features that should be considered as strings.\n",
      "Transformed numerical columns with high skewness factor.\n",
      "Label Encoding: from 81 cols to 521 cols.\n",
      "Performed feature Scaling with RobustScaler.\n",
      "To prevent overfitting, 44 columns were removed.\n",
      "Shape of transformed dataset: (2919, 477) (original: (2919, 81))\n",
      "----\n",
      "\n",
      "Target feature transformed with natural logarithm.\n",
      "Shape of transformed target: (1460,)\n",
      "----\n",
      "\n",
      "Transformed Joined Dataframe shape: (2919, 477), and target shape: (1460,)\n"
     ]
    }
   ],
   "source": [
    "df_joined_ml = house_pipeline_v1(df_joined,\n",
    "                                 impute_method = \"median\",\n",
    "                                 feature_transform = \"yes\",\n",
    "                                 feature_scaling = \"RobustScaler\", \n",
    "                                 feature_selection = \"yes\")\n",
    "print(\"----\\n\")\n",
    "target_ml = target_transf(target)\n",
    "print(\"----\\n\")\n",
    "print(\"Transformed Joined Dataframe shape: {}, and target shape: {}\".format(\n",
    "    df_joined_ml.shape, target_ml.shape))"
   ]
  },
  {
   "cell_type": "code",
   "execution_count": 33,
   "metadata": {
    "ExecuteTime": {
     "end_time": "2019-07-03T08:17:53.652678Z",
     "start_time": "2019-07-03T08:17:53.548333Z"
    }
   },
   "outputs": [
    {
     "name": "stdout",
     "output_type": "stream",
     "text": [
      "(1460, 475)\n"
     ]
    }
   ],
   "source": [
    "# Extract Training data from joined transformed dataset\n",
    "df_train_ml = df_joined_ml[df_joined_ml['Dataset_Train']==1].copy()\n",
    "# Remove redundant features\n",
    "df_train_ml.drop(['Dataset_Train'], axis=1, inplace=True)\n",
    "df_train_ml.drop(['Dataset_Test'], axis=1, inplace=True)\n",
    "# Reset index\n",
    "df_train_ml = df_train_ml.reset_index(drop=True) \n",
    "print(df_train_ml.shape)"
   ]
  },
  {
   "cell_type": "code",
   "execution_count": 34,
   "metadata": {
    "ExecuteTime": {
     "end_time": "2019-07-03T08:17:53.711300Z",
     "start_time": "2019-07-03T08:17:53.657140Z"
    }
   },
   "outputs": [
    {
     "name": "stdout",
     "output_type": "stream",
     "text": [
      "(1459, 475)\n"
     ]
    }
   ],
   "source": [
    "# Extract Testing data from joined transformed dataset\n",
    "df_test_ml = df_joined_ml[df_joined_ml['Dataset_Test']==1].copy()\n",
    "# Remove redundant features\n",
    "df_test_ml.drop(['Dataset_Train'], axis=1, inplace=True)\n",
    "df_test_ml.drop(['Dataset_Test'], axis=1, inplace=True)\n",
    "# Reset index\n",
    "df_test_ml = df_test_ml.reset_index(drop=True)\n",
    "print(df_test_ml.shape)"
   ]
  },
  {
   "cell_type": "markdown",
   "metadata": {},
   "source": [
    ">  Splitting Training Dataframe prior to training ML algorithms using cross-validation. I've chosen to \"stratify\" my training sets as per the feature with the stronges correlation with the target label."
   ]
  },
  {
   "cell_type": "code",
   "execution_count": 35,
   "metadata": {
    "ExecuteTime": {
     "end_time": "2019-07-03T08:17:53.759417Z",
     "start_time": "2019-07-03T08:17:53.718218Z"
    },
    "_cell_guid": "ed40e2c5-6c66-416c-9251-7834fef5baf6",
    "_uuid": "7fc3032d0e3ecdd6f7c9865935baa3f9247c6d3d"
   },
   "outputs": [],
   "source": [
    "X_train, X_test, y_train, y_test = train_test_split(df_train_ml,\n",
    "                                                    target_ml,\n",
    "                                                    test_size=0.2,\n",
    "                                                    stratify=df_train_ml['OverallQual'],\n",
    "                                                    random_state=42)"
   ]
  },
  {
   "cell_type": "code",
   "execution_count": 36,
   "metadata": {
    "ExecuteTime": {
     "end_time": "2019-07-03T08:17:53.796726Z",
     "start_time": "2019-07-03T08:17:53.762304Z"
    }
   },
   "outputs": [
    {
     "name": "stdout",
     "output_type": "stream",
     "text": [
      "Training Data Shape: (1460, 475)\n",
      "X_train Shape: (1168, 475)\n",
      "X_test Shape: (292, 475)\n"
     ]
    }
   ],
   "source": [
    "print(\"Training Data Shape: {}\".format(df_train_ml.shape))\n",
    "print(\"X_train Shape: {}\".format(X_train.shape))\n",
    "print(\"X_test Shape: {}\".format(X_test.shape))"
   ]
  },
  {
   "cell_type": "markdown",
   "metadata": {},
   "source": [
    "### 5.2 Baseline Results"
   ]
  },
  {
   "cell_type": "code",
   "execution_count": 37,
   "metadata": {},
   "outputs": [
    {
     "data": {
      "text/html": [
       "<div>\n",
       "<style scoped>\n",
       "    .dataframe tbody tr th:only-of-type {\n",
       "        vertical-align: middle;\n",
       "    }\n",
       "\n",
       "    .dataframe tbody tr th {\n",
       "        vertical-align: top;\n",
       "    }\n",
       "\n",
       "    .dataframe thead th {\n",
       "        text-align: right;\n",
       "    }\n",
       "</style>\n",
       "<table border=\"1\" class=\"dataframe\">\n",
       "  <thead>\n",
       "    <tr style=\"text-align: right;\">\n",
       "      <th></th>\n",
       "      <th>Algorithm</th>\n",
       "      <th>RMSE Mean</th>\n",
       "      <th>RMSE SD</th>\n",
       "    </tr>\n",
       "  </thead>\n",
       "  <tbody>\n",
       "    <tr>\n",
       "      <th>0</th>\n",
       "      <td>XGBoost Regressor</td>\n",
       "      <td>0.1214</td>\n",
       "      <td>0.0107</td>\n",
       "    </tr>\n",
       "    <tr>\n",
       "      <th>1</th>\n",
       "      <td>Gradient Boosting Regressor</td>\n",
       "      <td>0.1247</td>\n",
       "      <td>0.0122</td>\n",
       "    </tr>\n",
       "    <tr>\n",
       "      <th>2</th>\n",
       "      <td>SVR</td>\n",
       "      <td>0.1253</td>\n",
       "      <td>0.0064</td>\n",
       "    </tr>\n",
       "    <tr>\n",
       "      <th>3</th>\n",
       "      <td>LGBM Regressor</td>\n",
       "      <td>0.1285</td>\n",
       "      <td>0.0120</td>\n",
       "    </tr>\n",
       "    <tr>\n",
       "      <th>4</th>\n",
       "      <td>Random Forest</td>\n",
       "      <td>0.1388</td>\n",
       "      <td>0.0138</td>\n",
       "    </tr>\n",
       "    <tr>\n",
       "      <th>5</th>\n",
       "      <td>Ridge Regression</td>\n",
       "      <td>0.1392</td>\n",
       "      <td>0.0214</td>\n",
       "    </tr>\n",
       "    <tr>\n",
       "      <th>6</th>\n",
       "      <td>ElasticNet</td>\n",
       "      <td>0.3732</td>\n",
       "      <td>0.0115</td>\n",
       "    </tr>\n",
       "    <tr>\n",
       "      <th>7</th>\n",
       "      <td>Lasso</td>\n",
       "      <td>0.3831</td>\n",
       "      <td>0.0128</td>\n",
       "    </tr>\n",
       "  </tbody>\n",
       "</table>\n",
       "</div>"
      ],
      "text/plain": [
       "                     Algorithm  RMSE Mean  RMSE SD\n",
       "0            XGBoost Regressor     0.1214   0.0107\n",
       "1  Gradient Boosting Regressor     0.1247   0.0122\n",
       "2                          SVR     0.1253   0.0064\n",
       "3               LGBM Regressor     0.1285   0.0120\n",
       "4                Random Forest     0.1388   0.0138\n",
       "5             Ridge Regression     0.1392   0.0214\n",
       "6                   ElasticNet     0.3732   0.0115\n",
       "7                        Lasso     0.3831   0.0128"
      ]
     },
     "execution_count": 37,
     "metadata": {},
     "output_type": "execute_result"
    }
   ],
   "source": [
    "# selection of algorithms to consider\n",
    "models = []\n",
    "models.append(('Ridge Regression', Ridge(alpha=1.0)))\n",
    "models.append(('ElasticNet', ElasticNet()))\n",
    "models.append(('Random Forest', RandomForestRegressor(\n",
    "    n_estimators=100, random_state=7)))\n",
    "models.append(('Lasso', Lasso(random_state=42)))\n",
    "models.append(('XGBoost Regressor', xgb.XGBRegressor(objective='reg:squarederror', \n",
    "                                                     random_state=42)))\n",
    "models.append(('Gradient Boosting Regressor', GradientBoostingRegressor()))\n",
    "models.append(('LGBM Regressor',LGBMRegressor(objective='regression')))\n",
    "models.append(('SVR',SVR()))\n",
    "\n",
    "# set table to table to populate with performance results\n",
    "rmse_results = []\n",
    "names = []\n",
    "col = ['Algorithm', 'RMSE Mean', 'RMSE SD']\n",
    "df_results = pd.DataFrame(columns=col)\n",
    "\n",
    "# evaluate each model using cross-validation\n",
    "kfold = model_selection.KFold(n_splits=5, shuffle = True, random_state=7)\n",
    "i = 0\n",
    "for name, model in models:\n",
    "    # -mse scoring\n",
    "    cv_mse_results = model_selection.cross_val_score(\n",
    "        model, X_train, y_train, cv=kfold, scoring='neg_mean_squared_error')\n",
    "    # calculate and append rmse results\n",
    "    cv_rmse_results = np.sqrt(-cv_mse_results)\n",
    "    rmse_results.append(cv_rmse_results)\n",
    "    names.append(name)\n",
    "    df_results.loc[i] = [name,\n",
    "                         round(cv_rmse_results.mean(), 4),\n",
    "                         round(cv_rmse_results.std(), 4)]\n",
    "    i += 1\n",
    "df_results.sort_values(by=['RMSE Mean'], ascending=True).reset_index(drop=True)"
   ]
  },
  {
   "cell_type": "code",
   "execution_count": 38,
   "metadata": {
    "ExecuteTime": {
     "end_time": "2019-07-03T08:18:04.509603Z",
     "start_time": "2019-07-03T08:18:03.882256Z"
    }
   },
   "outputs": [
    {
     "data": {
      "image/png": "[encoded data removed]",
      "text/plain": [
       "<Figure size 1080x576 with 1 Axes>"
      ]
     },
     "metadata": {
      "needs_background": "light"
     },
     "output_type": "display_data"
    }
   ],
   "source": [
    "fig = plt.figure(figsize=(15, 8))\n",
    "fig.suptitle('Algorithm RMSE Comparison')\n",
    "ax = fig.add_subplot(111)\n",
    "plt.boxplot(rmse_results)\n",
    "ax.set_xticklabels(names)\n",
    "plt.show();"
   ]
  },
  {
   "cell_type": "markdown",
   "metadata": {},
   "source": [
    "----\n",
    "<a class=\"anchor\" id=\"sixth-bullet\"></a>\n",
    "### 6. Fine-Tuning ML Hyper-Parameters"
   ]
  },
  {
   "cell_type": "markdown",
   "metadata": {
    "_cell_guid": "2786f2b0-8ad4-4bcd-9f3d-c4f4369c646f",
    "_uuid": "0079e03aafa0f6efdd9a8b9a08e4bc8697ea2a1b"
   },
   "source": [
    "#### 6.1 XGBoost"
   ]
  },
  {
   "cell_type": "markdown",
   "metadata": {
    "_cell_guid": "0538a79a-eeb4-4470-b1cd-b1f865c1d52a",
    "_uuid": "f8a3bb0310cd2af6241a20570f7003301beb783e"
   },
   "source": [
    "> XGBoost is short for “Extreme Gradient Boosting” and is popular algorithm on Kaggle. It is fast to implement but time-consuming to tune the hyper-parameters so below, I have included the code for hyperparameter tuning but did not run it on Kaggle."
   ]
  },
  {
   "cell_type": "code",
   "execution_count": 39,
   "metadata": {
    "ExecuteTime": {
     "end_time": "2019-07-03T08:26:49.140327Z",
     "start_time": "2019-07-03T08:26:49.101357Z"
    },
    "_cell_guid": "0e640811-660d-4d13-a4a6-01791c383079",
    "_uuid": "76e83df89293da140ffc80d1ef7807126193d24f"
   },
   "outputs": [],
   "source": [
    "import xgboost as xgb\n",
    "xgb_regressor = xgb.XGBRegressor(random_state=42)"
   ]
  },
  {
   "cell_type": "markdown",
   "metadata": {
    "_cell_guid": "f88acb29-d975-45fc-89f7-9e57a6242016",
    "_uuid": "d5da69709b67a357c2dc3c5ef88234d039c67e1c"
   },
   "source": [
    "> Cross-validation can be used (as shown below) to find optimum hyperparameters. Due to the time needed for RandomizedSearchCV to provide results, I've commended out the next cell but left the code FYI."
   ]
  },
  {
   "cell_type": "code",
   "execution_count": 40,
   "metadata": {
    "ExecuteTime": {
     "end_time": "2019-07-03T08:26:49.207995Z",
     "start_time": "2019-07-03T08:26:49.169092Z"
    },
    "_cell_guid": "49468f8c-1c4c-477b-b426-31e62d5f74e5",
    "_uuid": "cac75ee154b17a6a08cf503a8f6d93d67641e235"
   },
   "outputs": [],
   "source": [
    "# start = time() # Get start time\n",
    "# cv_sets_xgb = ShuffleSplit(random_state = 10) # shuffling our data for cross-validation\n",
    "# parameters_xgb = {'n_estimators':range(2000, 8000, 500), \n",
    "#              'learning_rate':[0.05,0.060,0.070], \n",
    "#              'max_depth':[3,5,7],\n",
    "#              'min_child_weight':[1,1.5,2]}\n",
    "# scorer_xgb = make_scorer(mean_squared_error)\n",
    "# grid_obj_xgb = RandomizedSearchCV(xgb_regressor, \n",
    "#                                  parameters_xgb,\n",
    "#                                  scoring = scorer_xgb, \n",
    "#                                  cv = cv_sets_xgb,\n",
    "#                                  random_state= 99)\n",
    "# grid_fit_xgb = grid_obj_xgb.fit(X_train, y_train)\n",
    "# xgb_opt = grid_fit_xgb.best_estimator_\n",
    "\n",
    "# end = time() # Get end time\n",
    "# xgb_time = (end-start)/60 # Calculate training time\n",
    "# print('It took {0:.2f} minutes for RandomizedSearchCV to converge to optimised parameters for the RandomForest model'.format(xgb_time))\n",
    "# ## Print results\n",
    "# print('='*20)\n",
    "# print(\"best params: \" + str(grid_fit_xgb.best_estimator_))\n",
    "# print(\"best params: \" + str(grid_fit_xgb.best_params_))\n",
    "# print('best score:', grid_fit_xgb.best_score_)\n",
    "# print('='*20)"
   ]
  },
  {
   "cell_type": "code",
   "execution_count": 41,
   "metadata": {},
   "outputs": [],
   "source": [
    "# XGBoost with tuned parameters\n",
    "xgb_reg = xgb.XGBRegressor(objective='reg:squarederror', random_state=42)\n",
    "xgb_opt = xgb.XGBRegressor(learning_rate=0.01,\n",
    "                           n_estimators=6000,\n",
    "                           max_depth=4,\n",
    "                           min_child_weight=0,\n",
    "                           gamma=0.6,\n",
    "                           subsample=0.7,\n",
    "                           colsample_bytree=0.7,\n",
    "                           objective='reg:squarederror',\n",
    "                           nthread=-1,\n",
    "                           scale_pos_weight=1,\n",
    "                           seed=27,\n",
    "                           reg_alpha=0.00006,\n",
    "                           random_state=42)"
   ]
  },
  {
   "cell_type": "markdown",
   "metadata": {},
   "source": [
    "#### 6.2 Gradient Boosting Regressor"
   ]
  },
  {
   "cell_type": "code",
   "execution_count": 42,
   "metadata": {},
   "outputs": [],
   "source": [
    "gbr = GradientBoostingRegressor(n_estimators=6000,\n",
    "                                learning_rate=0.01,\n",
    "                                max_depth=4,\n",
    "                                max_features='sqrt',\n",
    "                                min_samples_leaf=15,\n",
    "                                min_samples_split=10,\n",
    "                                loss='huber',\n",
    "                                random_state=42)"
   ]
  },
  {
   "cell_type": "markdown",
   "metadata": {},
   "source": [
    "#### 6.3 LGBM Regressor"
   ]
  },
  {
   "cell_type": "code",
   "execution_count": 43,
   "metadata": {},
   "outputs": [],
   "source": [
    "lightgbm = LGBMRegressor(objective='regression', \n",
    "                         num_leaves=6,\n",
    "                         learning_rate=0.01, \n",
    "                         n_estimators=7000,\n",
    "                         max_bin=200, \n",
    "                         bagging_fraction=0.8,\n",
    "                         bagging_freq=4, \n",
    "                         bagging_seed=8,\n",
    "                         feature_fraction=0.2,\n",
    "                         feature_fraction_seed=8,\n",
    "                         min_sum_hessian_in_leaf = 11,\n",
    "                         verbose=-1,\n",
    "                         random_state=42)"
   ]
  },
  {
   "cell_type": "markdown",
   "metadata": {
    "_cell_guid": "f8e69491-0b86-4213-bf42-12ac5759240d",
    "_uuid": "83325294469a08b4294a35024966a2906a061cad"
   },
   "source": [
    "#### 6.4 Random Forest Regressor"
   ]
  },
  {
   "cell_type": "code",
   "execution_count": 44,
   "metadata": {
    "ExecuteTime": {
     "end_time": "2019-07-03T08:26:46.901127Z",
     "start_time": "2019-07-03T08:18:04.557640Z"
    },
    "_cell_guid": "f61c1571-eedd-4ce3-b040-5719b30e66c1",
    "_uuid": "96cb5344588f9fea8b409bf20a97a67960f6a135"
   },
   "outputs": [],
   "source": [
    "# start = time() # Get start time\n",
    "# rf_regressor = RandomForestRegressor(random_state=42)\n",
    "# cv_sets = ShuffleSplit(random_state = 4) # shuffling our data for cross-validation\n",
    "# parameters = {'n_estimators':range(5, 950, 5), \n",
    "#               'min_samples_leaf':range(20, 40, 5), \n",
    "#               'max_depth':range(3, 5, 1)}\n",
    "# scorer = make_scorer(mean_squared_error)\n",
    "# n_iter_search = 10\n",
    "# grid_obj = RandomizedSearchCV(rf_regressor, \n",
    "#                               parameters, \n",
    "#                               n_iter = n_iter_search, \n",
    "#                               scoring = scorer, \n",
    "#                               cv = cv_sets,\n",
    "#                               random_state= 99)\n",
    "# grid_fit = grid_obj.fit(X_train, y_train)\n",
    "# rf_opt = grid_fit.best_estimator_\n",
    "# end = time() # Get end time\n",
    "# rf_time = (end-start)/60 # Calculate training time\n",
    "# print('It took {0:.2f} minutes for RandomizedSearchCV to converge to optimised parameters for the RandomForest model'.format(rf_time))\n",
    "# ## Print results\n",
    "# print('='*20)\n",
    "# print(\"best params: \" + str(grid_fit.best_estimator_))\n",
    "# print(\"best params: \" + str(grid_fit.best_params_))\n",
    "# print('best score:', grid_fit.best_score_)\n",
    "# print('='*20)"
   ]
  },
  {
   "cell_type": "code",
   "execution_count": 45,
   "metadata": {},
   "outputs": [],
   "source": [
    "# RandomForest with tuned parameters\n",
    "rf_reg = RandomForestRegressor(n_estimators=100, \n",
    "                               random_state=7)\n",
    "rf_opt = RandomForestRegressor(n_estimators=1200,\n",
    "                               max_depth=15,\n",
    "                               min_samples_split=5,\n",
    "                               min_samples_leaf=5,\n",
    "                               max_features=None,\n",
    "                               oob_score=True,\n",
    "                               random_state=42)"
   ]
  },
  {
   "cell_type": "markdown",
   "metadata": {
    "_cell_guid": "1dba9f60-4c03-4f77-b8b2-3a6a72fa953d",
    "_uuid": "3d41b24355b5ff0e3b1e1d098d0bd793ce08fdca"
   },
   "source": [
    "> Let's get the RandomForestRegression model's assessment of the Top 5 most important features"
   ]
  },
  {
   "cell_type": "code",
   "execution_count": 46,
   "metadata": {
    "ExecuteTime": {
     "end_time": "2019-07-03T08:26:47.449561Z",
     "start_time": "2019-07-03T08:26:47.308888Z"
    },
    "_cell_guid": "7c380fbb-ddfb-4a59-a8d6-320c75c52d45",
    "_uuid": "80d85a60bb5393ecd7077b5edb9b59df251a1a78"
   },
   "outputs": [
    {
     "name": "stdout",
     "output_type": "stream",
     "text": [
      "Top 10 features:\n",
      "             Feature  Coefficient\n",
      "0        OverallQual     0.396489\n",
      "1            TotalSF     0.346741\n",
      "2  Total_sqr_footage     0.085509\n",
      "3          YearBuilt     0.015330\n",
      "4    Total_Bathrooms     0.013535\n",
      "5       YearRemodAdd     0.012249\n",
      "6            LotArea     0.010257\n",
      "7         GarageCars     0.010182\n",
      "8          GrLivArea     0.008507\n",
      "9        OverallCond     0.008289\n"
     ]
    },
    {
     "data": {
      "image/png": "[encoded data removed]",
      "text/plain": [
       "<Figure size 1080x504 with 1 Axes>"
      ]
     },
     "metadata": {
      "needs_background": "light"
     },
     "output_type": "display_data"
    }
   ],
   "source": [
    "rf_imp = RandomForestRegressor(n_estimators=1200,\n",
    "                               max_depth=15,\n",
    "                               min_samples_split=5,\n",
    "                               min_samples_leaf=5,\n",
    "                               max_features=None,\n",
    "                               oob_score=True,\n",
    "                               random_state=42)\n",
    "rf_imp.fit(X_train, y_train)\n",
    "importances = rf_imp.feature_importances_\n",
    "df_param_coeff = pd.DataFrame(columns=['Feature', 'Coefficient'])\n",
    "for i in range(len(X_train.columns)-1):\n",
    "    feat = X_train.columns[i]\n",
    "    coeff = importances[i]\n",
    "    df_param_coeff.loc[i] = (feat, coeff)\n",
    "df_param_coeff.sort_values(by='Coefficient', ascending=False, inplace=True)\n",
    "df_param_coeff = df_param_coeff.reset_index(drop=True)\n",
    "print(\"Top 10 features:\\n{}\".format(df_param_coeff.head(10)))\n",
    "\n",
    "importances = rf_imp.feature_importances_\n",
    "indices = np.argsort(importances)[::-1] # Sort feature importances in descending order\n",
    "names = [X_train.columns[i] for i in indices] # Rearrange feature names so they match the sorted feature importances\n",
    "plt.figure(figsize=(15, 7)) # Create plot\n",
    "plt.title(\"Top 10 Most Important Features\") # Create plot title\n",
    "plt.bar(range(10), importances[indices][:10]) # Add bars\n",
    "plt.xticks(range(10), names[:10], rotation=90) # Add feature names as x-axis labels\n",
    "#plt.bar(range(X_train.shape[1]), importances[indices]) # Add bars\n",
    "#plt.xticks(range(X_train.shape[1]), names, rotation=90) # Add feature names as x-axis labels\n",
    "plt.show() # Show plot"
   ]
  },
  {
   "cell_type": "markdown",
   "metadata": {},
   "source": [
    "#### 6.5 Ridge Regression"
   ]
  },
  {
   "cell_type": "code",
   "execution_count": 47,
   "metadata": {},
   "outputs": [],
   "source": [
    "kfolds = KFold(n_splits=5, shuffle=True, random_state=7)\n",
    "rcv_alphas = np.arange(14, 16, 0.1)\n",
    "ridge = RidgeCV(alphas=rcv_alphas, \n",
    "                cv=kfolds)"
   ]
  },
  {
   "cell_type": "markdown",
   "metadata": {},
   "source": [
    "#### 6.6 SVR"
   ]
  },
  {
   "cell_type": "code",
   "execution_count": 48,
   "metadata": {},
   "outputs": [],
   "source": [
    "svr = SVR(C= 20, \n",
    "          epsilon= 0.008, \n",
    "          gamma=0.0003)"
   ]
  },
  {
   "cell_type": "markdown",
   "metadata": {},
   "source": [
    "#### 6.7 Model Performance Review"
   ]
  },
  {
   "cell_type": "code",
   "execution_count": 49,
   "metadata": {},
   "outputs": [
    {
     "name": "stdout",
     "output_type": "stream",
     "text": [
      "Evaluating Ridge Regression...\n",
      "Evaluating Random Forest...\n",
      "Evaluating XGBoost Regressor...\n",
      "Evaluating Gradient Boosting Regressor...\n",
      "Evaluating LGBM Regressor...\n",
      "Evaluating SVR...\n",
      "Evaluating StackingRegressor...\n",
      "Evaluation completed.\n",
      "It took 18.07 minutes to evaluate all models using a 5-fold cross-validation.\n"
     ]
    },
    {
     "data": {
      "text/html": [
       "<div>\n",
       "<style scoped>\n",
       "    .dataframe tbody tr th:only-of-type {\n",
       "        vertical-align: middle;\n",
       "    }\n",
       "\n",
       "    .dataframe tbody tr th {\n",
       "        vertical-align: top;\n",
       "    }\n",
       "\n",
       "    .dataframe thead th {\n",
       "        text-align: right;\n",
       "    }\n",
       "</style>\n",
       "<table border=\"1\" class=\"dataframe\">\n",
       "  <thead>\n",
       "    <tr style=\"text-align: right;\">\n",
       "      <th></th>\n",
       "      <th>Algorithm</th>\n",
       "      <th>RMSE Mean</th>\n",
       "      <th>RMSE SD</th>\n",
       "    </tr>\n",
       "  </thead>\n",
       "  <tbody>\n",
       "    <tr>\n",
       "      <th>0</th>\n",
       "      <td>Gradient Boosting Regressor</td>\n",
       "      <td>0.1151</td>\n",
       "      <td>0.0122</td>\n",
       "    </tr>\n",
       "    <tr>\n",
       "      <th>1</th>\n",
       "      <td>StackingRegressor</td>\n",
       "      <td>0.1198</td>\n",
       "      <td>0.0119</td>\n",
       "    </tr>\n",
       "    <tr>\n",
       "      <th>2</th>\n",
       "      <td>LGBM Regressor</td>\n",
       "      <td>0.1201</td>\n",
       "      <td>0.0126</td>\n",
       "    </tr>\n",
       "    <tr>\n",
       "      <th>3</th>\n",
       "      <td>SVR</td>\n",
       "      <td>0.1248</td>\n",
       "      <td>0.0171</td>\n",
       "    </tr>\n",
       "    <tr>\n",
       "      <th>4</th>\n",
       "      <td>Ridge Regression</td>\n",
       "      <td>0.1296</td>\n",
       "      <td>0.0234</td>\n",
       "    </tr>\n",
       "    <tr>\n",
       "      <th>5</th>\n",
       "      <td>XGBoost Regressor</td>\n",
       "      <td>0.1389</td>\n",
       "      <td>0.0115</td>\n",
       "    </tr>\n",
       "    <tr>\n",
       "      <th>6</th>\n",
       "      <td>Random Forest</td>\n",
       "      <td>0.1415</td>\n",
       "      <td>0.0128</td>\n",
       "    </tr>\n",
       "  </tbody>\n",
       "</table>\n",
       "</div>"
      ],
      "text/plain": [
       "                     Algorithm  RMSE Mean  RMSE SD\n",
       "0  Gradient Boosting Regressor     0.1151   0.0122\n",
       "1            StackingRegressor     0.1198   0.0119\n",
       "2               LGBM Regressor     0.1201   0.0126\n",
       "3                          SVR     0.1248   0.0171\n",
       "4             Ridge Regression     0.1296   0.0234\n",
       "5            XGBoost Regressor     0.1389   0.0115\n",
       "6                Random Forest     0.1415   0.0128"
      ]
     },
     "execution_count": 49,
     "metadata": {},
     "output_type": "execute_result"
    }
   ],
   "source": [
    "# selection of algorithms to consider\n",
    "start = time() # Get start time\n",
    "models = []\n",
    "models.append(('Ridge Regression', ridge))\n",
    "models.append(('Random Forest', rf_opt))\n",
    "models.append(('XGBoost Regressor', xgb_opt))\n",
    "models.append(('Gradient Boosting Regressor', gbr))\n",
    "models.append(('LGBM Regressor',lightgbm))\n",
    "models.append(('SVR',svr))\n",
    "models.append(('StackingRegressor',StackingRegressor(regressors=(gbr,\n",
    "                                                                 xgb_opt,\n",
    "                                                                 lightgbm,\n",
    "                                                                 rf_opt,\n",
    "                                                                 ridge, \n",
    "                                                                 svr),\n",
    "                                                     meta_regressor=xgb_opt,\n",
    "                                                     use_features_in_secondary=False)))\n",
    "\n",
    "# set table to table to populate with performance results\n",
    "rmse_results = []\n",
    "names = []\n",
    "col = ['Algorithm', 'RMSE Mean', 'RMSE SD']\n",
    "df_results = pd.DataFrame(columns=col)\n",
    "\n",
    "# evaluate each model using cross-validation\n",
    "kfold = model_selection.KFold(n_splits=5, shuffle = True, random_state=7)\n",
    "i = 0\n",
    "for name, model in models:\n",
    "    print(\"Evaluating {}...\".format(name))\n",
    "    # -mse scoring\n",
    "    cv_mse_results = model_selection.cross_val_score(\n",
    "        model, X_train, y_train, cv=kfold, scoring='neg_mean_squared_error')\n",
    "    # calculate and append rmse results\n",
    "    cv_rmse_results = np.sqrt(-cv_mse_results)\n",
    "    rmse_results.append(cv_rmse_results)\n",
    "    names.append(name)\n",
    "    df_results.loc[i] = [name,\n",
    "                         round(cv_rmse_results.mean(), 4),\n",
    "                         round(cv_rmse_results.std(), 4)]\n",
    "    i += 1\n",
    "end = time() # Get end time\n",
    "eval_time = (end-start)/60 # Calculate training time\n",
    "print('Evaluation completed.\\nIt took {0:.2f} minutes to evaluate all models using a 5-fold cross-validation.'.format(eval_time))\n",
    "df_results.sort_values(by=['RMSE Mean'], ascending=True).reset_index(drop=True)"
   ]
  },
  {
   "cell_type": "code",
   "execution_count": 50,
   "metadata": {},
   "outputs": [
    {
     "data": {
      "image/png": "[encoded data removed]",
      "text/plain": [
       "<Figure size 1440x576 with 1 Axes>"
      ]
     },
     "metadata": {
      "needs_background": "light"
     },
     "output_type": "display_data"
    }
   ],
   "source": [
    "fig = plt.figure(figsize=(20, 8))\n",
    "fig.suptitle('Algorithm RMSE Comparison')\n",
    "ax = fig.add_subplot(111)\n",
    "plt.boxplot(rmse_results)\n",
    "ax.set_xticklabels(names)\n",
    "plt.show()"
   ]
  },
  {
   "cell_type": "markdown",
   "metadata": {
    "_cell_guid": "e2eb141a-309c-4204-92d4-a478c31da9c7",
    "_uuid": "4993d11d8e041f0cde980b012d71b7fba8fa5cb7"
   },
   "source": [
    "----\n",
    "<a class=\"anchor\" id=\"seventh-bullet\"></a>\n",
    "## 7. Blending ML Algorithms with StackingCVRegressor"
   ]
  },
  {
   "cell_type": "markdown",
   "metadata": {},
   "source": [
    "Stacking regression is an ensemble learning technique to combine multiple regression models via a meta-regressor. The individual regression models are trained based on the complete training set; then, the meta-regressor is fitted based on the outputs -- meta-features -- of the individual regression models in the ensemble.\n",
    "\n",
    "**StackingCVRegressor** extends the standard stacking algorithm (implemented as StackingRegressor) using out-of-fold predictions to prepare the input data for the level-2 regressor."
   ]
  },
  {
   "cell_type": "code",
   "execution_count": 51,
   "metadata": {},
   "outputs": [],
   "source": [
    "stack_gen = StackingCVRegressor(regressors=(gbr,\n",
    "                                            xgb_opt,\n",
    "                                            lightgbm,\n",
    "                                            rf_opt,\n",
    "                                            ridge, \n",
    "                                            svr),\n",
    "                                meta_regressor=xgb_opt,\n",
    "                                use_features_in_secondary=False)"
   ]
  },
  {
   "cell_type": "code",
   "execution_count": 52,
   "metadata": {},
   "outputs": [
    {
     "name": "stdout",
     "output_type": "stream",
     "text": [
      "Fitting models to the training data:\n",
      "xgboost....\n",
      "GradientBoosting....\n",
      "lightgbm....\n",
      "RandomForest....\n",
      "Ridge....\n",
      "SVR....\n",
      "Stacking Regression....\n",
      "Fitting completed.\n",
      "It took 16.26 minutes to fit all the models to the training data.\n"
     ]
    }
   ],
   "source": [
    "print('Fitting models to the training data:')\n",
    "start = time() # Get start time\n",
    "\n",
    "print('xgboost....')\n",
    "xgb_model_full_data = xgb_opt.fit(df_train_ml, target_ml)\n",
    "print('GradientBoosting....')\n",
    "gbr_model_full_data = gbr.fit(df_train_ml, target_ml)\n",
    "print('lightgbm....')\n",
    "lgb_model_full_data = lightgbm.fit(df_train_ml, target_ml)\n",
    "print('RandomForest....')\n",
    "rf_model_full_data = rf_opt.fit(df_train_ml, target_ml)\n",
    "print('Ridge....')\n",
    "ridge_model_full_data = ridge.fit(df_train_ml, target_ml)\n",
    "print('SVR....')\n",
    "svr_model_full_data = svr.fit(df_train_ml, target_ml)\n",
    "print('Stacking Regression....')\n",
    "stack_gen_model = stack_gen.fit(np.array(df_train_ml), np.array(target_ml))\n",
    "\n",
    "end = time() # Get end time\n",
    "fitting_time = (end-start)/60 # Calculate training time\n",
    "print('Fitting completed.\\nIt took {0:.2f} minutes to fit all the models to the training data.'.format(fitting_time))"
   ]
  },
  {
   "cell_type": "markdown",
   "metadata": {
    "_uuid": "13c807cf83270678e50cb5f058e3a083581f0421"
   },
   "source": [
    "----\n",
    "<a class=\"anchor\" id=\"eigth-bullet\"></a>\n",
    "## 8. Submission"
   ]
  },
  {
   "cell_type": "code",
   "execution_count": 53,
   "metadata": {},
   "outputs": [],
   "source": [
    "def blend_models_predict(X):\n",
    "    return ((0.25 * stack_gen_model.predict(np.array(X))) + \\\n",
    "            (0.25 * gbr_model_full_data.predict(X)) + \\\n",
    "            (0.15 * svr_model_full_data.predict(X)) + \\\n",
    "            (0.15 * lgb_model_full_data.predict(X)) + \\\n",
    "            (0.1 * ridge_model_full_data.predict(X))+ \\\n",
    "            (0.05 * xgb_model_full_data.predict(X)) + \\\n",
    "            (0.05 * rf_model_full_data.predict(X)) \n",
    "           )"
   ]
  },
  {
   "cell_type": "code",
   "execution_count": 54,
   "metadata": {},
   "outputs": [],
   "source": [
    "# Generate predictions from the blend\n",
    "y_pred_final = np.floor(np.expm1(blend_models_predict(df_test_ml)))"
   ]
  },
  {
   "cell_type": "code",
   "execution_count": 55,
   "metadata": {
    "ExecuteTime": {
     "end_time": "2019-07-03T08:27:41.385566Z",
     "start_time": "2019-07-03T08:27:41.358921Z"
    },
    "_cell_guid": "6daea848-0b3f-4035-9191-446cd6d52a2b",
    "_uuid": "a998f663d030ccf1d6f30516da73aaf83064ab39"
   },
   "outputs": [],
   "source": [
    "# Generate submission dataframe\n",
    "my_submission = pd.DataFrame({'Id': test.Id, 'SalePrice': y_pred_final})\n",
    "\n",
    "# Exporting submission to CSV\n",
    "my_submission.to_csv('submission-080719_v1.csv', index=False)"
   ]
  },
  {
   "cell_type": "markdown",
   "metadata": {
    "_cell_guid": "20618789-a76c-4334-93ee-9a4908faa971",
    "_uuid": "980b172a850a831be2f8edbb56ddd8ef8abc5b1a"
   },
   "source": [
    "> I hope you enjoyed this notebook. If you found it helpful, don't hesitate to  upvote - it would be very much appreciated :-)\n",
    "<br>\n",
    "> I wish all the best to the rest of this amazing Kaggle community! "
   ]
  }
 ],
 "metadata": {
  "hide_input": false,
  "kernelspec": {
   "display_name": "Python 3",
   "language": "python",
   "name": "python3"
  },
  "language_info": {
   "codemirror_mode": {
    "name": "ipython",
    "version": 3
   },
   "file_extension": ".py",
   "mimetype": "text/x-python",
   "name": "python",
   "nbconvert_exporter": "python",
   "pygments_lexer": "ipython3",
   "version": "3.6.6"
  },
  "toc": {
   "base_numbering": 1,
   "nav_menu": {},
   "number_sections": true,
   "sideBar": true,
   "skip_h1_title": true,
   "title_cell": "Table of Contents",
   "title_sidebar": "Contents",
   "toc_cell": false,
   "toc_position": {
    "height": "calc(100% - 180px)",
    "left": "10px",
    "top": "150px",
    "width": "384px"
   },
   "toc_section_display": true,
   "toc_window_display": true
  },
  "varInspector": {
   "cols": {
    "lenName": 16,
    "lenType": 16,
    "lenVar": 40
   },
   "kernels_config": {
    "python": {
     "delete_cmd_postfix": "",
     "delete_cmd_prefix": "del ",
     "library": "var_list.py",
     "varRefreshCmd": "print(var_dic_list())"
    },
    "r": {
     "delete_cmd_postfix": ") ",
     "delete_cmd_prefix": "rm(",
     "library": "var_list.r",
     "varRefreshCmd": "cat(var_dic_list()) "
    }
   },
   "types_to_exclude": [
    "module",
    "function",
    "builtin_function_or_method",
    "instance",
    "_Feature"
   ],
   "window_display": false
  }
 },
 "nbformat": 4,
 "nbformat_minor": 1
}
